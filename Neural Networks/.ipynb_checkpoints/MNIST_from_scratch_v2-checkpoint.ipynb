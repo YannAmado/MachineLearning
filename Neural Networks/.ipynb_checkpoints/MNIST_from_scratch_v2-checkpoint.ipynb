{
 "cells": [
  {
   "cell_type": "markdown",
   "id": "d19ba97a",
   "metadata": {},
   "source": [
    "This notebooks improves from the previous version by implementing:<br>\n",
    "-Cross entropy cost function instead of SSR<br>\n",
    "-R2 regularization<br>\n",
    "-Better initialization of weights<br>\n",
    "-Early Stopping (optional)<br>\n",
    "\n",
    "Advantages:<br>\n",
    "-Way less epochs needed to learn (roughly 10x less)<br>\n",
    "-Better overall acc<br>\n",
    "-Generalizes better (increase in acc in unseen data)<br>\n",
    "\n",
    "This notebook was made mostly following Michael Nielsen's book http://neuralnetworksanddeeplearning.com/"
   ]
  },
  {
   "cell_type": "code",
   "execution_count": 34,
   "id": "14a426d0",
   "metadata": {},
   "outputs": [],
   "source": [
    "import numpy as np\n",
    "import random as rd\n",
    "from keras.datasets import mnist\n",
    "\n"
   ]
  },
  {
   "cell_type": "code",
   "execution_count": 35,
   "id": "67dbe35e",
   "metadata": {},
   "outputs": [],
   "source": [
    "class Network:\n",
    "    \"\"\"\n",
    "    The main object we're going to use accross this notebook\n",
    "    It's a neural network that takes as input a list of \n",
    "    layers nodes\n",
    "    \n",
    "    Ex: [2, 3, 1] is a 3 layer network, with 2 neurons of input, 3 neurons \n",
    "    in the hidden layer and 1 for the output layer\n",
    "    \n",
    "    Supposedly it can take more than just 3 layers but I didnt test it\n",
    "    \n",
    "    It initializes an object with the proper weights, biases, activations and z\n",
    "    based on the layers list. It also has the layers list and the number of layers\n",
    "    \n",
    "    The weights and biases initialized following a Gaussian with standard deviation 1/sqrt(n_in)\n",
    "    with n_in = number of weights into the neuron\n",
    "    \"\"\"\n",
    "    def __init__(self, layers: list):        \n",
    "        np.random.seed(42)        \n",
    "        b = []\n",
    "        w = []\n",
    "        a = []\n",
    "        z = []\n",
    "        for l in range(0, len(layers)):\n",
    "            # skipping one layer for the weights and biases\n",
    "            if (l+1) < len(layers):\n",
    "                b.append(np.random.normal(loc=0, scale=1,size=layers[l+1]))\n",
    "                wScale = 1/np.sqrt(layers[l])\n",
    "                w.append(np.random.normal(loc=0,scale=wScale,size=[layers[l],layers[l+1]]))\n",
    "                #print(w[l])\n",
    "            a.append(np.zeros(layers[l]))\n",
    "            z.append(np.zeros(layers[l]))\n",
    "        # b[i][j] -> \"i\" is which layer, \"j\" which neuron\n",
    "        # w[i][j][k] -> \"i\" is which layer, \"j\" which neuron of the first layer, \"k\" which neuron of the second layer\n",
    "        self.b = b\n",
    "        self.w = w\n",
    "        self.a = a\n",
    "        self.z = z\n",
    "        self.nLayers = len(layers)\n",
    "        self.layers = layers\n",
    "        \n",
    "    @staticmethod\n",
    "    def copy(net):\n",
    "        copiedNet = Network([784,30,10])\n",
    "        copiedNet.a = np.copy(net.a)\n",
    "        copiedNet.z = np.copy(net.z)\n",
    "        for l in range(2):\n",
    "            copiedNet.w[l] = np.copy(net.w[l])\n",
    "            copiedNet.b[l] = np.copy(net.b[l])\n",
    "        return copiedNet\n",
    "            "
   ]
  },
  {
   "cell_type": "code",
   "execution_count": 36,
   "id": "378ffc6d",
   "metadata": {},
   "outputs": [],
   "source": [
    "def sigmoid(n: float):\n",
    "    return 1.0/(1.0+np.exp(-n))\n",
    "\n",
    "def sigmoid_derivative(n: float):\n",
    "    \"\"\"Derivative of the sigmoid function.\"\"\"\n",
    "    return sigmoid(n)*(1-sigmoid(n))\n",
    "    \n",
    "    "
   ]
  },
  {
   "cell_type": "code",
   "execution_count": 37,
   "id": "0ea48a23",
   "metadata": {},
   "outputs": [],
   "source": [
    "def feedForward(net: Network) -> Network:\n",
    "    \"\"\"\n",
    "    Feedforwading the activations to the next layer\n",
    "    \n",
    "    It will take as input the network already with the input image as the activation \n",
    "    on the first layer and then feedforward to the next layrse\n",
    "    \n",
    "    It returns the network with all the activations set\n",
    "    \"\"\"\n",
    "    \n",
    "    # resetting the activations as to not take any info from the activation of\n",
    "    # the previous number while maintanin the first activation\n",
    "    for i in range(1, net.nLayers):\n",
    "        net.z[i] = np.zeros(net.layers[i])\n",
    "        net.a[i] = np.zeros(net.layers[i])\n",
    "    for l in range(0, net.nLayers-1):\n",
    "        for receivingNeuron in range(net.layers[l+1]):\n",
    "            for givingNeuron in range(net.layers[l]):\n",
    "                net.z[l+1][receivingNeuron] += net.a[l][givingNeuron] * net.w[l][givingNeuron][receivingNeuron]\n",
    "            net.z[l+1][receivingNeuron] += net.b[l][receivingNeuron]\n",
    "            net.a[l+1][receivingNeuron] = sigmoid(net.z[l+1][receivingNeuron])\n",
    "\n",
    "            \n",
    "    return net\n",
    "    \n",
    "    "
   ]
  },
  {
   "cell_type": "code",
   "execution_count": 38,
   "id": "10120406",
   "metadata": {},
   "outputs": [],
   "source": [
    "def setInput(net: Network, MNISTnumber):\n",
    "    \"\"\"\n",
    "    Inputs the MNIST number into the network, since the number is a 28x28 matrix, \n",
    "    we transform it into a 784 array\n",
    "    \n",
    "    We also scale the pixels as to be between 0 and 1 for the sigmoid function \n",
    "    instead of 0 and 255\n",
    "    \n",
    "    Returns the network with the proper activations on all layers since it pass \n",
    "    through the feedforward step\n",
    "    \"\"\"\n",
    "    numberArr = np.asarray(MNISTnumber).flatten()\n",
    "    # scaling the array so that the range is between 0 and 1\n",
    "    numberArr = np.interp(numberArr, (numberArr.min(), numberArr.max()), (0, 1))\n",
    "    for i in range(net.layers[0]):\n",
    "        net.z[0][i] = numberArr[i]\n",
    "        net.a[0][i] = numberArr[i]\n",
    "    net = feedForward(net)\n",
    "    \n",
    "    return net"
   ]
  },
  {
   "cell_type": "code",
   "execution_count": 39,
   "id": "d026ec5e",
   "metadata": {},
   "outputs": [],
   "source": [
    "def testNetwork(net: Network, test_X, test_y, nTests: int):\n",
    "    \"\"\"\n",
    "    A function to test our network\n",
    "    \n",
    "    It returns the overall accuracy and the numbers our network guessed\n",
    "    \"\"\"\n",
    "    \n",
    "    correctOutput = 0\n",
    "    X = test_X[:nTests]\n",
    "    y = test_y[:nTests]\n",
    "    outputs = np.zeros(10)\n",
    "    for i in range(nTests):\n",
    "        net = setInput(net, X[i])\n",
    "        networkOutput = np.argmax(net.a[-1])\n",
    "        outputs[networkOutput] += 1\n",
    "        #print(f\"number: {y[i]}, networkOutput: {networkOutput}, activations: {net.a[-1]}\")\n",
    "        if y[i] == networkOutput:\n",
    "            correctOutput += 1\n",
    "    acc = correctOutput/nTests\n",
    "    return acc, outputs\n"
   ]
  },
  {
   "cell_type": "code",
   "execution_count": 40,
   "id": "3d4f2b63",
   "metadata": {},
   "outputs": [],
   "source": [
    "def gridSearch(train_X, train_y, test_X, test_y, batchSize: int, learningRates: list, epochs: int, lamb):\n",
    "    \"\"\"\n",
    "    A function to perform a gridSearch in order to find the best learningRates\n",
    "\n",
    "    It takes as input the network, the training images of MNIST, the training labels,\n",
    "    the test images, the test labels, the batchSize for SGD,\n",
    "    a list of learningRates as to find the best inside the list\n",
    "    the number of epochs to perform SGD\n",
    "    \n",
    "    \n",
    "    It returns the best network accross all learning rates list\n",
    "    \"\"\"\n",
    "    bestAcc = 0\n",
    "    for eta in learningRates:\n",
    "        # resetting the network\n",
    "        net = Network([784,30,10])\n",
    "        net = SGD(net, train_X, train_y, batchSize=batchSize, nEpochs=epochs, learningRate=eta, lamb=lamb)\n",
    "        acc, outputs = testNetwork(net, test_X, test_y, batchSize) \n",
    "        if acc > bestAcc:\n",
    "            bestNet = net\n",
    "            bestAcc = acc\n",
    "    return bestNet\n"
   ]
  },
  {
   "cell_type": "markdown",
   "id": "6491dbfe",
   "metadata": {},
   "source": [
    "The list below is all equations that were used to compute the erros and then propagate through the network:\n",
    "\n",
    "To calculate the error on the last layer: \n",
    "$$\\delta^L = (a^L - y)\\odot \\sigma'(z^L)$$\n",
    "\n",
    "To calculate the error on the other layers:\n",
    "$$\\delta^l = ((w^{l+1})^T\\delta^{l+1})\\odot \\sigma'(z^l)$$\n",
    "\n",
    "To repass the error to the bias: \n",
    "$$\\frac{\\partial C}{\\partial b^l_j} = \\delta^l_j$$\n",
    "\n",
    "To repass the error to the weights:\n",
    "$$\\frac{\\partial C}{\\partial w^l_{jk}} = a^{l-1}_k\\delta^l_j$$"
   ]
  },
  {
   "cell_type": "code",
   "execution_count": 41,
   "id": "2b397ddc",
   "metadata": {},
   "outputs": [],
   "source": [
    "def backProp(net: Network, y) -> Network:\n",
    "    \"\"\"\n",
    "    The backpropagation step: first we calculate the error on the last layer, \n",
    "    then we pass to the previous layers all the while applying the error \n",
    "    to the weights and biases. Here we used Cross-entropy as our cost function\n",
    "    \n",
    "    Example on a 3 layer network: We calculate the error on the last layer, \n",
    "    apply it to the last layer's weights and biases, and then calculate the \n",
    "    error on the next layer, propagate to the weights and biases and it's done\n",
    "    \n",
    "    It takes as input the network and the label of the number the network was activated on\n",
    "    \n",
    "    It returns the modifications to the weights and biases (nablaW and nablaB) \n",
    "    the network should have\n",
    "    \"\"\"\n",
    "    layers = net.layers\n",
    "    nablaB = [np.zeros(i.shape) for i in net.b]\n",
    "    nablaW = [np.zeros(i.shape) for i in net.w]\n",
    "    delta = np.zeros(10) # 10 because its the possible number of outputs\n",
    "    for j in range(net.layers[-1]):\n",
    "        if y == j:\n",
    "            delta[j] += (net.a[-1][j] - 1)\n",
    "        else:\n",
    "            delta[j] += (net.a[-1][j] - 0)\n",
    "    for l in range(net.nLayers-1, 0, -1):\n",
    "        #nablaB and nablaW have -1 because they only have 2 layers instead of 3\n",
    "        nablaB[l-1] = delta\n",
    "                \n",
    "        for j in range(layers[l]):\n",
    "            for k in range(layers[l-1]):\n",
    "                nablaW[l-1][k][j] += net.a[l-1][k]*delta[j]\n",
    "        \n",
    "        # finding the error one layer behind\n",
    "        # in the book it needs a transpose because its weight[layer][receivingNeuron][givingNeuron]\n",
    "        # but my implementation uses weight[layer][givingNeuron][receivingNeuron] so it's not necessary\n",
    "        delta = (np.dot(net.w[l-1], delta))*sigmoid_derivative(net.z[l-1])\n",
    "        \n",
    "    return nablaB, nablaW\n"
   ]
  },
  {
   "cell_type": "code",
   "execution_count": 42,
   "id": "8536b0c8",
   "metadata": {
    "pycharm": {
     "name": "#%%\n"
    }
   },
   "outputs": [],
   "source": [
    "def SGD(net: Network, X: list, y: list, batchSize: int, nEpochs: int, learningRate, lamb, earlyStop=False) -> Network:\n",
    "    \"\"\"\n",
    "    Implementation of Stochastic Gradient Descent\n",
    "    \n",
    "    It takes as input the network, the MNIST dataset, the MNIST labels of the dataset, \n",
    "    the size of the batch to do gradient descent, the number of epochs it should run,\n",
    "    the learning rate eta (I found the best eta to be in the order of 1s)\n",
    "    and the regularization term lambda\n",
    "    \n",
    "    It returns a trained network\n",
    "    \"\"\"\n",
    "    bestAcc = 0\n",
    "    bestEpoch = 0\n",
    "    earlyNet = net\n",
    "    eta = learningRate\n",
    "    etaChangeEpoch = 0\n",
    "    for epoch in range(nEpochs):\n",
    "        batch = rd.sample(range(len(X)), batchSize)\n",
    "        nablaB = [np.zeros(i.shape) for i in net.b]\n",
    "        nablaW = [np.zeros(i.shape) for i in net.w]\n",
    "        for i in batch:\n",
    "            net = setInput(net, X[i])\n",
    "            # finding what should be modified based on this particular example\n",
    "            deltaNablaB, deltaNablaW = backProp(net, y[i])\n",
    "            # passing this modifications to our overall modifications matrices\n",
    "            for l in range(net.nLayers-1):\n",
    "                nablaB[l] += deltaNablaB[l]\n",
    "                nablaW[l] += deltaNablaW[l]\n",
    "        \n",
    "        # applying the changes to our network\n",
    "        for l in range(net.nLayers-1):\n",
    "            net.b[l] = net.b[l] - eta * (nablaB[l]/batchSize) \n",
    "            net.w[l] = net.w[l] - eta * (nablaW[l]/batchSize) - eta * (lamb/batchSize) *  net.w[l]\n",
    "        acc, outputs = testNetwork(net, X, y, nTests=batchSize)\n",
    "        if acc > bestAcc:\n",
    "            bestAcc = acc\n",
    "            bestEpoch = epoch\n",
    "            earlyNet = Network.copy(net)\n",
    "            etaChangeEpoch = epoch\n",
    "        print(f'learningRate: {learningRate} epochs: {epoch} acc: {acc}, outputs: {outputs}')\n",
    "    print(f'best acc: {bestAcc} on epoch: {bestEpoch}')\n",
    "    if earlyStop:\n",
    "        return earlyNet\n",
    "    return net\n",
    "        "
   ]
  },
  {
   "cell_type": "code",
   "execution_count": 43,
   "id": "38ebf075",
   "metadata": {
    "scrolled": true
   },
   "outputs": [],
   "source": [
    "# loading the dataset\n",
    "(train_X, train_y), (test_X, test_y) = mnist.load_data()"
   ]
  },
  {
   "cell_type": "code",
   "execution_count": 44,
   "id": "5918a0e9",
   "metadata": {
    "scrolled": true
   },
   "outputs": [
    {
     "name": "stderr",
     "output_type": "stream",
     "text": [
      "C:\\Users\\Yann\\anaconda3\\lib\\site-packages\\numpy\\lib\\function_base.py:793: VisibleDeprecationWarning: Creating an ndarray from ragged nested sequences (which is a list-or-tuple of lists-or-tuples-or ndarrays with different lengths or shapes) is deprecated. If you meant to do this, you must specify 'dtype=object' when creating the ndarray.\n",
      "  return array(a, order=order, subok=subok, copy=True)\n"
     ]
    },
    {
     "name": "stdout",
     "output_type": "stream",
     "text": [
      "learningRate: 2 epochs: 0 acc: 0.06, outputs: [  0.   0. 100.   0.   0.   0.   0.   0.   0.   0.]\n",
      "learningRate: 2 epochs: 1 acc: 0.12, outputs: [ 7.  0.  0.  0. 93.  0.  0.  0.  0.  0.]\n",
      "learningRate: 2 epochs: 2 acc: 0.13, outputs: [ 0. 81.  0.  0.  0.  0. 19.  0.  0.  0.]\n",
      "learningRate: 2 epochs: 3 acc: 0.06, outputs: [  0.   0. 100.   0.   0.   0.   0.   0.   0.   0.]\n",
      "learningRate: 2 epochs: 4 acc: 0.11, outputs: [  0.   0.   0. 100.   0.   0.   0.   0.   0.   0.]\n",
      "learningRate: 2 epochs: 5 acc: 0.14, outputs: [98.  0.  0.  0.  0.  0.  0.  2.  0.  0.]\n",
      "learningRate: 2 epochs: 6 acc: 0.11, outputs: [  0.   0.   0.   0. 100.   0.   0.   0.   0.   0.]\n",
      "learningRate: 2 epochs: 7 acc: 0.11, outputs: [  0.   0.   0.   0.   0.   0. 100.   0.   0.   0.]\n",
      "learningRate: 2 epochs: 8 acc: 0.19, outputs: [ 0.  9.  0.  0.  0.  0.  0.  0. 12. 79.]\n"
     ]
    },
    {
     "ename": "KeyboardInterrupt",
     "evalue": "",
     "output_type": "error",
     "traceback": [
      "\u001b[1;31m---------------------------------------------------------------------------\u001b[0m",
      "\u001b[1;31mKeyboardInterrupt\u001b[0m                         Traceback (most recent call last)",
      "\u001b[1;32m<ipython-input-44-3013fd68fb80>\u001b[0m in \u001b[0;36m<module>\u001b[1;34m\u001b[0m\n\u001b[1;32m----> 1\u001b[1;33m \u001b[0mnet\u001b[0m \u001b[1;33m=\u001b[0m \u001b[0mgridSearch\u001b[0m\u001b[1;33m(\u001b[0m\u001b[0mtrain_X\u001b[0m\u001b[1;33m,\u001b[0m \u001b[0mtrain_y\u001b[0m\u001b[1;33m,\u001b[0m \u001b[0mtest_X\u001b[0m\u001b[1;33m,\u001b[0m \u001b[0mtest_y\u001b[0m\u001b[1;33m,\u001b[0m \u001b[0mbatchSize\u001b[0m\u001b[1;33m=\u001b[0m\u001b[1;36m100\u001b[0m\u001b[1;33m,\u001b[0m \u001b[0mlearningRates\u001b[0m\u001b[1;33m=\u001b[0m\u001b[1;33m[\u001b[0m\u001b[1;36m2\u001b[0m\u001b[1;33m]\u001b[0m\u001b[1;33m,\u001b[0m \u001b[0mepochs\u001b[0m\u001b[1;33m=\u001b[0m\u001b[1;36m500\u001b[0m\u001b[1;33m,\u001b[0m \u001b[0mlamb\u001b[0m\u001b[1;33m=\u001b[0m\u001b[1;36m5\u001b[0m\u001b[1;33m)\u001b[0m\u001b[1;33m\u001b[0m\u001b[1;33m\u001b[0m\u001b[0m\n\u001b[0m",
      "\u001b[1;32m<ipython-input-40-35389621619b>\u001b[0m in \u001b[0;36mgridSearch\u001b[1;34m(train_X, train_y, test_X, test_y, batchSize, learningRates, epochs, lamb)\u001b[0m\n\u001b[0;32m     15\u001b[0m         \u001b[1;31m# resetting the network\u001b[0m\u001b[1;33m\u001b[0m\u001b[1;33m\u001b[0m\u001b[1;33m\u001b[0m\u001b[0m\n\u001b[0;32m     16\u001b[0m         \u001b[0mnet\u001b[0m \u001b[1;33m=\u001b[0m \u001b[0mNetwork\u001b[0m\u001b[1;33m(\u001b[0m\u001b[1;33m[\u001b[0m\u001b[1;36m784\u001b[0m\u001b[1;33m,\u001b[0m\u001b[1;36m30\u001b[0m\u001b[1;33m,\u001b[0m\u001b[1;36m10\u001b[0m\u001b[1;33m]\u001b[0m\u001b[1;33m)\u001b[0m\u001b[1;33m\u001b[0m\u001b[1;33m\u001b[0m\u001b[0m\n\u001b[1;32m---> 17\u001b[1;33m         \u001b[0mnet\u001b[0m \u001b[1;33m=\u001b[0m \u001b[0mSGD\u001b[0m\u001b[1;33m(\u001b[0m\u001b[0mnet\u001b[0m\u001b[1;33m,\u001b[0m \u001b[0mtrain_X\u001b[0m\u001b[1;33m,\u001b[0m \u001b[0mtrain_y\u001b[0m\u001b[1;33m,\u001b[0m \u001b[0mbatchSize\u001b[0m\u001b[1;33m=\u001b[0m\u001b[0mbatchSize\u001b[0m\u001b[1;33m,\u001b[0m \u001b[0mnEpochs\u001b[0m\u001b[1;33m=\u001b[0m\u001b[0mepochs\u001b[0m\u001b[1;33m,\u001b[0m \u001b[0mlearningRate\u001b[0m\u001b[1;33m=\u001b[0m\u001b[0meta\u001b[0m\u001b[1;33m,\u001b[0m \u001b[0mlamb\u001b[0m\u001b[1;33m=\u001b[0m\u001b[0mlamb\u001b[0m\u001b[1;33m)\u001b[0m\u001b[1;33m\u001b[0m\u001b[1;33m\u001b[0m\u001b[0m\n\u001b[0m\u001b[0;32m     18\u001b[0m         \u001b[0macc\u001b[0m\u001b[1;33m,\u001b[0m \u001b[0moutputs\u001b[0m \u001b[1;33m=\u001b[0m \u001b[0mtestNetwork\u001b[0m\u001b[1;33m(\u001b[0m\u001b[0mnet\u001b[0m\u001b[1;33m,\u001b[0m \u001b[0mtest_X\u001b[0m\u001b[1;33m,\u001b[0m \u001b[0mtest_y\u001b[0m\u001b[1;33m,\u001b[0m \u001b[0mbatchSize\u001b[0m\u001b[1;33m)\u001b[0m\u001b[1;33m\u001b[0m\u001b[1;33m\u001b[0m\u001b[0m\n\u001b[0;32m     19\u001b[0m         \u001b[1;32mif\u001b[0m \u001b[0macc\u001b[0m \u001b[1;33m>\u001b[0m \u001b[0mbestAcc\u001b[0m\u001b[1;33m:\u001b[0m\u001b[1;33m\u001b[0m\u001b[1;33m\u001b[0m\u001b[0m\n",
      "\u001b[1;32m<ipython-input-42-1a6593d57e04>\u001b[0m in \u001b[0;36mSGD\u001b[1;34m(net, X, y, batchSize, nEpochs, learningRate, lamb, earlyStop)\u001b[0m\n\u001b[0;32m     20\u001b[0m         \u001b[0mnablaW\u001b[0m \u001b[1;33m=\u001b[0m \u001b[1;33m[\u001b[0m\u001b[0mnp\u001b[0m\u001b[1;33m.\u001b[0m\u001b[0mzeros\u001b[0m\u001b[1;33m(\u001b[0m\u001b[0mi\u001b[0m\u001b[1;33m.\u001b[0m\u001b[0mshape\u001b[0m\u001b[1;33m)\u001b[0m \u001b[1;32mfor\u001b[0m \u001b[0mi\u001b[0m \u001b[1;32min\u001b[0m \u001b[0mnet\u001b[0m\u001b[1;33m.\u001b[0m\u001b[0mw\u001b[0m\u001b[1;33m]\u001b[0m\u001b[1;33m\u001b[0m\u001b[1;33m\u001b[0m\u001b[0m\n\u001b[0;32m     21\u001b[0m         \u001b[1;32mfor\u001b[0m \u001b[0mi\u001b[0m \u001b[1;32min\u001b[0m \u001b[0mbatch\u001b[0m\u001b[1;33m:\u001b[0m\u001b[1;33m\u001b[0m\u001b[1;33m\u001b[0m\u001b[0m\n\u001b[1;32m---> 22\u001b[1;33m             \u001b[0mnet\u001b[0m \u001b[1;33m=\u001b[0m \u001b[0msetInput\u001b[0m\u001b[1;33m(\u001b[0m\u001b[0mnet\u001b[0m\u001b[1;33m,\u001b[0m \u001b[0mX\u001b[0m\u001b[1;33m[\u001b[0m\u001b[0mi\u001b[0m\u001b[1;33m]\u001b[0m\u001b[1;33m)\u001b[0m\u001b[1;33m\u001b[0m\u001b[1;33m\u001b[0m\u001b[0m\n\u001b[0m\u001b[0;32m     23\u001b[0m             \u001b[1;31m# finding what should be modified based on this particular example\u001b[0m\u001b[1;33m\u001b[0m\u001b[1;33m\u001b[0m\u001b[1;33m\u001b[0m\u001b[0m\n\u001b[0;32m     24\u001b[0m             \u001b[0mdeltaNablaB\u001b[0m\u001b[1;33m,\u001b[0m \u001b[0mdeltaNablaW\u001b[0m \u001b[1;33m=\u001b[0m \u001b[0mbackProp\u001b[0m\u001b[1;33m(\u001b[0m\u001b[0mnet\u001b[0m\u001b[1;33m,\u001b[0m \u001b[0my\u001b[0m\u001b[1;33m[\u001b[0m\u001b[0mi\u001b[0m\u001b[1;33m]\u001b[0m\u001b[1;33m)\u001b[0m\u001b[1;33m\u001b[0m\u001b[1;33m\u001b[0m\u001b[0m\n",
      "\u001b[1;32m<ipython-input-38-316d270b0e1a>\u001b[0m in \u001b[0;36msetInput\u001b[1;34m(net, MNISTnumber)\u001b[0m\n\u001b[0;32m     16\u001b[0m         \u001b[0mnet\u001b[0m\u001b[1;33m.\u001b[0m\u001b[0mz\u001b[0m\u001b[1;33m[\u001b[0m\u001b[1;36m0\u001b[0m\u001b[1;33m]\u001b[0m\u001b[1;33m[\u001b[0m\u001b[0mi\u001b[0m\u001b[1;33m]\u001b[0m \u001b[1;33m=\u001b[0m \u001b[0mnumberArr\u001b[0m\u001b[1;33m[\u001b[0m\u001b[0mi\u001b[0m\u001b[1;33m]\u001b[0m\u001b[1;33m\u001b[0m\u001b[1;33m\u001b[0m\u001b[0m\n\u001b[0;32m     17\u001b[0m         \u001b[0mnet\u001b[0m\u001b[1;33m.\u001b[0m\u001b[0ma\u001b[0m\u001b[1;33m[\u001b[0m\u001b[1;36m0\u001b[0m\u001b[1;33m]\u001b[0m\u001b[1;33m[\u001b[0m\u001b[0mi\u001b[0m\u001b[1;33m]\u001b[0m \u001b[1;33m=\u001b[0m \u001b[0mnumberArr\u001b[0m\u001b[1;33m[\u001b[0m\u001b[0mi\u001b[0m\u001b[1;33m]\u001b[0m\u001b[1;33m\u001b[0m\u001b[1;33m\u001b[0m\u001b[0m\n\u001b[1;32m---> 18\u001b[1;33m     \u001b[0mnet\u001b[0m \u001b[1;33m=\u001b[0m \u001b[0mfeedForward\u001b[0m\u001b[1;33m(\u001b[0m\u001b[0mnet\u001b[0m\u001b[1;33m)\u001b[0m\u001b[1;33m\u001b[0m\u001b[1;33m\u001b[0m\u001b[0m\n\u001b[0m\u001b[0;32m     19\u001b[0m \u001b[1;33m\u001b[0m\u001b[0m\n\u001b[0;32m     20\u001b[0m     \u001b[1;32mreturn\u001b[0m \u001b[0mnet\u001b[0m\u001b[1;33m\u001b[0m\u001b[1;33m\u001b[0m\u001b[0m\n",
      "\u001b[1;32m<ipython-input-37-342946a04fda>\u001b[0m in \u001b[0;36mfeedForward\u001b[1;34m(net)\u001b[0m\n\u001b[0;32m     17\u001b[0m         \u001b[1;32mfor\u001b[0m \u001b[0mreceivingNeuron\u001b[0m \u001b[1;32min\u001b[0m \u001b[0mrange\u001b[0m\u001b[1;33m(\u001b[0m\u001b[0mnet\u001b[0m\u001b[1;33m.\u001b[0m\u001b[0mlayers\u001b[0m\u001b[1;33m[\u001b[0m\u001b[0ml\u001b[0m\u001b[1;33m+\u001b[0m\u001b[1;36m1\u001b[0m\u001b[1;33m]\u001b[0m\u001b[1;33m)\u001b[0m\u001b[1;33m:\u001b[0m\u001b[1;33m\u001b[0m\u001b[1;33m\u001b[0m\u001b[0m\n\u001b[0;32m     18\u001b[0m             \u001b[1;32mfor\u001b[0m \u001b[0mgivingNeuron\u001b[0m \u001b[1;32min\u001b[0m \u001b[0mrange\u001b[0m\u001b[1;33m(\u001b[0m\u001b[0mnet\u001b[0m\u001b[1;33m.\u001b[0m\u001b[0mlayers\u001b[0m\u001b[1;33m[\u001b[0m\u001b[0ml\u001b[0m\u001b[1;33m]\u001b[0m\u001b[1;33m)\u001b[0m\u001b[1;33m:\u001b[0m\u001b[1;33m\u001b[0m\u001b[1;33m\u001b[0m\u001b[0m\n\u001b[1;32m---> 19\u001b[1;33m                 \u001b[0mnet\u001b[0m\u001b[1;33m.\u001b[0m\u001b[0mz\u001b[0m\u001b[1;33m[\u001b[0m\u001b[0ml\u001b[0m\u001b[1;33m+\u001b[0m\u001b[1;36m1\u001b[0m\u001b[1;33m]\u001b[0m\u001b[1;33m[\u001b[0m\u001b[0mreceivingNeuron\u001b[0m\u001b[1;33m]\u001b[0m \u001b[1;33m+=\u001b[0m \u001b[0mnet\u001b[0m\u001b[1;33m.\u001b[0m\u001b[0ma\u001b[0m\u001b[1;33m[\u001b[0m\u001b[0ml\u001b[0m\u001b[1;33m]\u001b[0m\u001b[1;33m[\u001b[0m\u001b[0mgivingNeuron\u001b[0m\u001b[1;33m]\u001b[0m \u001b[1;33m*\u001b[0m \u001b[0mnet\u001b[0m\u001b[1;33m.\u001b[0m\u001b[0mw\u001b[0m\u001b[1;33m[\u001b[0m\u001b[0ml\u001b[0m\u001b[1;33m]\u001b[0m\u001b[1;33m[\u001b[0m\u001b[0mgivingNeuron\u001b[0m\u001b[1;33m]\u001b[0m\u001b[1;33m[\u001b[0m\u001b[0mreceivingNeuron\u001b[0m\u001b[1;33m]\u001b[0m\u001b[1;33m\u001b[0m\u001b[1;33m\u001b[0m\u001b[0m\n\u001b[0m\u001b[0;32m     20\u001b[0m             \u001b[0mnet\u001b[0m\u001b[1;33m.\u001b[0m\u001b[0mz\u001b[0m\u001b[1;33m[\u001b[0m\u001b[0ml\u001b[0m\u001b[1;33m+\u001b[0m\u001b[1;36m1\u001b[0m\u001b[1;33m]\u001b[0m\u001b[1;33m[\u001b[0m\u001b[0mreceivingNeuron\u001b[0m\u001b[1;33m]\u001b[0m \u001b[1;33m+=\u001b[0m \u001b[0mnet\u001b[0m\u001b[1;33m.\u001b[0m\u001b[0mb\u001b[0m\u001b[1;33m[\u001b[0m\u001b[0ml\u001b[0m\u001b[1;33m]\u001b[0m\u001b[1;33m[\u001b[0m\u001b[0mreceivingNeuron\u001b[0m\u001b[1;33m]\u001b[0m\u001b[1;33m\u001b[0m\u001b[1;33m\u001b[0m\u001b[0m\n\u001b[0;32m     21\u001b[0m             \u001b[0mnet\u001b[0m\u001b[1;33m.\u001b[0m\u001b[0ma\u001b[0m\u001b[1;33m[\u001b[0m\u001b[0ml\u001b[0m\u001b[1;33m+\u001b[0m\u001b[1;36m1\u001b[0m\u001b[1;33m]\u001b[0m\u001b[1;33m[\u001b[0m\u001b[0mreceivingNeuron\u001b[0m\u001b[1;33m]\u001b[0m \u001b[1;33m=\u001b[0m \u001b[0msigmoid\u001b[0m\u001b[1;33m(\u001b[0m\u001b[0mnet\u001b[0m\u001b[1;33m.\u001b[0m\u001b[0mz\u001b[0m\u001b[1;33m[\u001b[0m\u001b[0ml\u001b[0m\u001b[1;33m+\u001b[0m\u001b[1;36m1\u001b[0m\u001b[1;33m]\u001b[0m\u001b[1;33m[\u001b[0m\u001b[0mreceivingNeuron\u001b[0m\u001b[1;33m]\u001b[0m\u001b[1;33m)\u001b[0m\u001b[1;33m\u001b[0m\u001b[1;33m\u001b[0m\u001b[0m\n",
      "\u001b[1;31mKeyboardInterrupt\u001b[0m: "
     ]
    }
   ],
   "source": [
    "net = gridSearch(train_X, train_y, test_X, test_y, batchSize=100, learningRates=[2], epochs=300, lamb=5)"
   ]
  },
  {
   "cell_type": "code",
   "execution_count": null,
   "id": "d2f632dd",
   "metadata": {
    "scrolled": false
   },
   "outputs": [],
   "source": [
    "testNetwork(net, test_X, test_y, len(test_X))"
   ]
  },
  {
   "cell_type": "code",
   "execution_count": null,
   "id": "4e5602a2",
   "metadata": {},
   "outputs": [],
   "source": [
    "# Seeing our network in action\n",
    "\n",
    "import matplotlib.pyplot as plt\n",
    "\n",
    "# pick a sample to plot\n",
    "sample = 50099\n",
    "image = train_X[sample]\n",
    "# plot the sample\n",
    "fig = plt.figure\n",
    "plt.imshow(image, cmap='gray')\n",
    "plt.show()\n",
    "\n",
    "net = setInput(net, train_X[sample])\n",
    "networkOutput = np.argmax(net.a[-1])\n",
    "networkOutput"
   ]
  }
 ],
 "metadata": {
  "kernelspec": {
   "display_name": "Python 3",
   "language": "python",
   "name": "python3"
  },
  "language_info": {
   "codemirror_mode": {
    "name": "ipython",
    "version": 3
   },
   "file_extension": ".py",
   "mimetype": "text/x-python",
   "name": "python",
   "nbconvert_exporter": "python",
   "pygments_lexer": "ipython3",
   "version": "3.8.8"
  }
 },
 "nbformat": 4,
 "nbformat_minor": 5
}
