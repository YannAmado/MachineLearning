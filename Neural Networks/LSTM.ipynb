{
 "cells": [
  {
   "cell_type": "markdown",
   "id": "d19ba97a",
   "metadata": {},
   "source": [
    "Base for this notebook: https://colah.github.io/posts/2015-08-Understanding-LSTMs/ <br>\n",
    "Got the derivatives from: https://medium.com/@aidangomez/let-s-do-this-f9b699de31d9\n",
    "https://mmuratarat.github.io/2019-01-19/dimensions-of-lstm"
   ]
  },
  {
   "cell_type": "code",
   "execution_count": 1,
   "id": "14a426d0",
   "metadata": {},
   "outputs": [],
   "source": [
    "import numpy as np\n",
    "import random as rd\n",
    "from keras.datasets import imdb\n",
    "\n"
   ]
  },
  {
   "cell_type": "code",
   "execution_count": 2,
   "id": "378ffc6d",
   "metadata": {},
   "outputs": [],
   "source": [
    "def sigmoid(n: float):\n",
    "    return 1.0/(1.0+np.exp(-n))\n",
    "\n",
    "def sigmoid_derivative(n: float):\n",
    "    \"\"\"Derivative of the sigmoid function.\"\"\"\n",
    "    return sigmoid(n)*(1-sigmoid(n))\n",
    "    \n",
    "def tanh(n: float):\n",
    "    return np.tanh(n)\n",
    "    "
   ]
  },
  {
   "cell_type": "code",
   "execution_count": 3,
   "id": "25b767c7",
   "metadata": {},
   "outputs": [],
   "source": [
    "def padding(X):\n",
    "    maxLen = len(max(X, key=len))\n",
    "    for i in range(len(X)):\n",
    "        X[i] = np.pad(X[i], (0 ,maxLen - len(X[i])), 'constant', constant_values=(0, 0))\n",
    "    return X"
   ]
  },
  {
   "cell_type": "code",
   "execution_count": 4,
   "id": "125ed652",
   "metadata": {},
   "outputs": [],
   "source": [
    "maxLen = 81\n",
    "(train_X, train_y), (test_X, test_y) = imdb.load_data(seed=42, num_words=20000, maxlen=maxLen)\n",
    "train_X = padding(train_X)\n"
   ]
  },
  {
   "cell_type": "code",
   "execution_count": 5,
   "id": "b14842db",
   "metadata": {
    "scrolled": true
   },
   "outputs": [],
   "source": [
    "np.save('train_X', train_X, allow_pickle=True)\n",
    "np.save('train_y', train_y, allow_pickle=True)\n"
   ]
  },
  {
   "cell_type": "code",
   "execution_count": 6,
   "id": "b0b19583",
   "metadata": {},
   "outputs": [
    {
     "data": {
      "text/plain": [
       "array([[0., 0., 0., 0., 0., 0., 0., 0., 0., 0., 0., 0., 0., 0., 0., 0.,\n",
       "        0., 0., 0., 0., 0., 0., 0., 0., 0., 0., 0., 0., 0., 0., 0., 0.,\n",
       "        0., 0., 0., 0., 0., 0., 0., 0., 0., 0., 0., 0., 0., 0., 0., 0.,\n",
       "        0., 0., 0., 0., 0., 0., 0., 0., 0., 0., 0., 0., 0., 0., 0., 0.,\n",
       "        0., 0., 0., 0., 0., 0., 0., 0., 0., 0., 0., 0., 0., 0., 0., 0.,\n",
       "        0., 0., 0., 0., 0., 0., 0., 0., 0., 0., 0., 0., 0., 0., 0., 0.,\n",
       "        0., 0., 0., 0., 0., 0., 0., 0., 0., 0., 0., 0., 0., 0., 0., 0.,\n",
       "        0., 0., 0., 0., 0., 0., 0., 0., 0., 0., 0., 0., 0., 0., 0., 0.,\n",
       "        0., 0., 0., 0., 0., 0., 0., 0., 0., 0., 0., 0., 0., 0., 0., 0.,\n",
       "        0., 0., 0., 0., 0., 0., 0., 0., 0., 0., 0., 0., 0., 0., 0., 0.,\n",
       "        0., 0., 0., 0., 0., 0., 0., 0., 0., 0., 0., 0., 0., 0., 0., 0.,\n",
       "        0., 0., 0., 0., 0., 0., 0., 0., 0., 0., 0., 0., 0., 0., 0., 0.,\n",
       "        0., 0., 0., 0., 0., 0., 0., 0., 0., 0., 0., 0., 0., 0., 0., 0.,\n",
       "        0., 0., 0., 0., 0., 0., 0., 0., 0., 0., 0., 0., 0., 0., 0., 0.,\n",
       "        0., 0., 0., 0., 0., 0., 0., 0., 0., 0., 0., 0., 0., 0., 0., 0.,\n",
       "        0., 0., 0., 0., 0., 0., 0., 0., 0., 0., 0., 0., 0., 0., 0., 0.,\n",
       "        0., 0., 0., 0., 0., 0., 0., 0., 0., 0., 0., 0., 0., 0., 0., 0.,\n",
       "        0., 0., 0., 0., 0., 0., 0., 0., 0., 0., 0., 0., 0., 0., 0., 0.,\n",
       "        0., 0., 0., 0., 0., 0., 0., 0., 0., 0., 0., 0., 0., 0., 0., 0.,\n",
       "        0., 0., 0., 0., 0., 0., 0., 0., 0., 0., 0., 0., 0., 0., 0., 0.,\n",
       "        0., 0., 0., 0., 0., 0., 0., 0., 0., 0., 0., 0., 0., 0., 0., 0.,\n",
       "        0., 0., 0., 0., 0., 0., 0., 0., 0., 0., 0., 0., 0., 0., 0., 0.,\n",
       "        0., 0., 0., 0., 0., 0., 0., 0., 0., 0., 0., 0., 0., 0., 0., 0.,\n",
       "        0., 0., 0., 0., 0., 0., 0., 0., 0., 0., 0., 0., 0., 0., 0., 0.,\n",
       "        0., 0., 0., 0., 0., 0., 0., 0., 0., 0., 0., 0., 0., 0., 0., 0.,\n",
       "        0., 0., 0., 0., 0., 0., 0., 0., 0., 0., 0., 0., 0., 0., 0., 0.,\n",
       "        0., 0., 0., 0., 0., 0., 0., 0., 0., 0., 0., 0., 0., 0., 0., 0.,\n",
       "        0., 0., 0., 0., 0., 0., 0., 0., 0., 0., 0., 0., 0., 0., 0., 0.,\n",
       "        0., 0., 0., 0., 0., 0., 0., 0., 0., 0., 0., 0., 0., 0., 0., 0.,\n",
       "        0., 0., 0., 0., 0., 0., 0., 0., 0., 0., 0., 0., 0., 0., 0., 0.,\n",
       "        0., 0., 0., 0., 0., 0., 0., 0., 0., 0., 0., 0., 0., 0., 0., 0.,\n",
       "        0., 0., 0., 0.]])"
      ]
     },
     "execution_count": 6,
     "metadata": {},
     "output_type": "execute_result"
    }
   ],
   "source": [
    "h = np.zeros((500, 1, 500))\n",
    "h[1]"
   ]
  },
  {
   "cell_type": "code",
   "execution_count": 7,
   "id": "2da7a1c0",
   "metadata": {},
   "outputs": [],
   "source": [
    "class LSTM:\n",
    "    \"\"\"\n",
    "    h = array of outputs\n",
    "    x = array of inputs\n",
    "    \"\"\"\n",
    "\n",
    "    def __init__(self, nInputs, nFeatures, nCells, nOutputs, batchSize):\n",
    "        nGates = 4\n",
    "        if nCells < nOutputs:\n",
    "            print('the number of cells cannot be less than the number of outputs')\n",
    "\n",
    "        # [t][i][j], t = timestep, i = which batch, j = which cell or feature\n",
    "        x = np.zeros((nInputs, batchSize, nFeatures))\n",
    "        h = np.zeros((nInputs, batchSize, nCells))\n",
    "        i = np.zeros((nInputs, batchSize, nCells))\n",
    "        f = np.zeros((nInputs, batchSize, nCells))\n",
    "        o = np.zeros((nInputs, batchSize, nCells))\n",
    "        tildeC = np.zeros((nInputs, batchSize, nCells))\n",
    "        C = np.zeros((nInputs, batchSize, nCells))\n",
    "        wxScale = 1 / np.sqrt(nFeatures * nCells)\n",
    "        whScale = 1 / np.sqrt(nCells * nCells)\n",
    "        Wxi = np.random.normal(loc=0, scale=wxScale, size=[nFeatures, nCells])\n",
    "        Wxf = np.random.normal(loc=0, scale=wxScale, size=[nFeatures, nCells])\n",
    "        Wxc = np.random.normal(loc=0, scale=wxScale, size=[nFeatures, nCells])\n",
    "        Wxo = np.random.normal(loc=0, scale=wxScale, size=[nFeatures, nCells])\n",
    "        Whi = np.random.normal(loc=0, scale=wxScale, size=[nCells, nCells])\n",
    "        Whf = np.random.normal(loc=0, scale=wxScale, size=[nCells, nCells])\n",
    "        Whc = np.random.normal(loc=0, scale=wxScale, size=[nCells, nCells])\n",
    "        Who = np.random.normal(loc=0, scale=wxScale, size=[nCells, nCells])\n",
    "        bi = np.random.normal(loc=0, scale=1, size=[nCells])\n",
    "        bf = np.random.normal(loc=0, scale=1, size=[nCells])\n",
    "        bc = np.random.normal(loc=0, scale=1, size=[nCells])\n",
    "        bo = np.random.normal(loc=0, scale=1, size=[nCells])\n",
    "        self.x = x\n",
    "        self.h = h\n",
    "        self.i = i\n",
    "        self.f = f\n",
    "        self.o = o\n",
    "        self.tildeC = tildeC\n",
    "        self.C = C\n",
    "        self.Wxi = Wxi\n",
    "        self.Wxf = Wxf\n",
    "        self.Wxc = Wxc\n",
    "        self.Wxo = Wxo\n",
    "        self.Whi = Whi\n",
    "        self.Whf = Whf\n",
    "        self.Whc = Whc\n",
    "        self.Who = Who\n",
    "        self.bi = bi\n",
    "        self.bf = bf\n",
    "        self.bc = bc\n",
    "        self.bo = bo\n",
    "        self.nCells = nCells\n",
    "        self.nGates = nGates\n",
    "\n",
    "    # the np.array(a) and np.array(b) can be removed after batchSize is implemented\n",
    "\n",
    "    def forgetGate(self, t):\n",
    "        if t == 0:\n",
    "            self.f[t] = sigmoid(np.dot(self.x[t], self.Wxf) + self.bf)\n",
    "        else:\n",
    "            self.f[t] = sigmoid(np.dot(self.h[t - 1], self.Whf) + np.dot(self.x[t], self.Wxf) + self.bf)\n",
    "        return self.f[t]\n",
    "\n",
    "    def inputGate(self, t):\n",
    "        if t == 0:\n",
    "            self.i[t] = sigmoid(np.dot(self.x[t], self.Wxi) + self.bi)\n",
    "            self.tildeC[t] = tanh(np.dot(self.x[t], self.Wxc) + self.bc)\n",
    "        else:\n",
    "            self.i[t] = sigmoid(np.dot(self.h[t - 1], self.Whi) + np.dot(self.x[t], self.Wxi) + self.bi)\n",
    "            self.tildeC[t] = tanh(np.dot(self.h[t - 1], self.Whc) + np.dot(self.x[t], self.Wxc) + self.bc)\n",
    "        return self.i[t] * self.tildeC[t]\n",
    "\n",
    "    def outputGate(self, t, newC):\n",
    "        if t == 0:\n",
    "            self.o[t] = sigmoid(np.dot(self.x[t], self.Wxo) + self.bo)\n",
    "        else:\n",
    "            self.o[t] = sigmoid(np.dot(self.h[t - 1], self.Who) + np.dot(self.x[t], self.Wxo) + self.bo)\n",
    "        self.h[t] = self.o[t] * tanh(newC)\n",
    "        return self.h[t]\n",
    "\n",
    "    def getNewState(self, t, xElement):\n",
    "        newC = self.C[t - 1] * self.forgetGate(t)\n",
    "        newC = newC + self.inputGate(t)\n",
    "        newH = self.outputGate(t, newC)\n",
    "        return newC, newH\n",
    "\n",
    "    def setInput(self, x):\n",
    "        C = 0\n",
    "        self.x[0] = x[0]\n",
    "        self.C[0], self.h[0] = self.getNewState(0, x[0])\n",
    "        for t in range(1, self.nCells):\n",
    "            self.x[t] = x[t]\n",
    "            self.C[t], self.h[t] = self.getNewState(t, x[t])\n",
    "        return\n",
    "\n",
    "    def backProp(self, y):\n",
    "        deltaOut = 0\n",
    "        # a = C~, state = C\n",
    "        i = self.i\n",
    "        f = self.f\n",
    "        C = self.C\n",
    "        o = self.o\n",
    "        deltaGates = np.zeros([self.nCells, self.nGates])\n",
    "        deltaState = 0\n",
    "        for t in range(self.nCells, 0, -1):\n",
    "            delta = self.h[t] - y[t]\n",
    "            deltaOut = delta + deltaOut\n",
    "            deltaState = deltaOut * o[t] * (1 - tanh(C[t]) ** 2) + deltaState[t + 1] * f[t + 1]\n",
    "            deltaC = deltaState[t] * i[t] * (1 - C[t] ** 2)\n",
    "            deltaI = deltaState[t] * C[t] * i[t] * (1 - i[t])\n",
    "            deltaF = deltaState[t] * C[t - 1] * f[t] * (1 - f[t])\n",
    "            deltaO = deltaOut[t] * tanh(C[t]) * o[t] * (1 - o[t])\n",
    "            deltaGates[t] = np.array([deltaC[t], deltaI[t], deltaF[t], deltaO[t]])\n",
    "\n",
    "        deltaW = 0\n",
    "        deltaU = 0\n",
    "        deltaB = 0\n",
    "        for t in range(self.nInputs):\n",
    "            deltaW += np.outer(deltaGates[t], self.x[t])\n",
    "            deltaB += deltaGates[t]\n",
    "            deltaU += np.outer(deltaGates[t + 1], self.h[t])\n",
    "        return deltaW, deltaU, deltaB\n",
    "\n",
    "    def SGD(self, X: list, y: list, batchSize: int, nEpochs: int, learningRate, lamb):\n",
    "        \"\"\"\n",
    "        Implementation of Stochastic Gradient Descent\n",
    "\n",
    "        It takes as input the network, the MNIST dataset, the MNIST labels of the dataset,\n",
    "        the size of the batch to do gradient descent, the number of epochs it should run,\n",
    "        the learning rate eta (I found the best eta to be in the order of 1s)\n",
    "        and the regularization term lambda\n",
    "\n",
    "        It returns a trained network\n",
    "        \"\"\"\n",
    "        bestAcc = 0\n",
    "        bestEpoch = 0\n",
    "        eta = learningRate\n",
    "        etaChangeEpoch = 0\n",
    "        for epoch in range(nEpochs):\n",
    "            batch = rd.sample(range(len(X)), batchSize)\n",
    "            nablaW = np.zeros(self.nGates)\n",
    "            nablaU = np.zeros(self.nGates)\n",
    "            nablaB = np.zeros(self.nGates)\n",
    "            for i in batch:\n",
    "                self.setInput(X[i])\n",
    "                # finding what should be modified based on this particular example\n",
    "                deltaNablaW, deltaNablaU, deltaNablaB = LSTM.backProp(y[i])\n",
    "                # passing this modifications to our overall modifications matrices\n",
    "                nablaW += deltaNablaW\n",
    "                nablaU += deltaNablaU\n",
    "                nablaB += deltaNablaB\n",
    "\n",
    "            # applying the changes to our network\n",
    "            self.b = self.b - eta * (nablaB / batchSize)\n",
    "            self.w = self.w - eta * (nablaW / batchSize) - eta * (lamb / batchSize) * self.w\n",
    "            self.u = self.u - eta * (nablaU / batchSize) - eta * (lamb / batchSize) * self.u\n",
    "            acc, outputs = testNetwork(X, y, nTests=batchSize)\n",
    "            if acc > bestAcc:\n",
    "                bestAcc = acc\n",
    "                bestEpoch = epoch\n",
    "            print(f'learningRate: {learningRate} epochs: {epoch} acc: {acc}, outputs: {outputs}')\n",
    "        print(f'best acc: {bestAcc} on epoch: {bestEpoch}')"
   ]
  },
  {
   "cell_type": "code",
   "execution_count": 8,
   "id": "10120406",
   "metadata": {
    "scrolled": true
   },
   "outputs": [
    {
     "name": "stderr",
     "output_type": "stream",
     "text": [
      "<ipython-input-2-4b506f7d8532>:2: RuntimeWarning: overflow encountered in exp\n",
      "  return 1.0/(1.0+np.exp(-n))\n"
     ]
    },
    {
     "ename": "IndexError",
     "evalue": "index 80 is out of bounds for axis 0 with size 80",
     "output_type": "error",
     "traceback": [
      "\u001b[1;31m---------------------------------------------------------------------------\u001b[0m",
      "\u001b[1;31mIndexError\u001b[0m                                Traceback (most recent call last)",
      "\u001b[1;32m<ipython-input-8-9d6112627fc0>\u001b[0m in \u001b[0;36m<module>\u001b[1;34m\u001b[0m\n\u001b[0;32m      2\u001b[0m \u001b[1;33m\u001b[0m\u001b[0m\n\u001b[0;32m      3\u001b[0m \u001b[1;33m\u001b[0m\u001b[0m\n\u001b[1;32m----> 4\u001b[1;33m \u001b[0mlstm\u001b[0m\u001b[1;33m.\u001b[0m\u001b[0mSGD\u001b[0m\u001b[1;33m(\u001b[0m\u001b[0mtrain_X\u001b[0m\u001b[1;33m,\u001b[0m \u001b[0mtrain_y\u001b[0m\u001b[1;33m,\u001b[0m \u001b[0mbatchSize\u001b[0m\u001b[1;33m=\u001b[0m\u001b[1;36m100\u001b[0m\u001b[1;33m,\u001b[0m \u001b[0mnEpochs\u001b[0m\u001b[1;33m=\u001b[0m\u001b[1;36m100\u001b[0m\u001b[1;33m,\u001b[0m \u001b[0mlearningRate\u001b[0m \u001b[1;33m=\u001b[0m \u001b[1;36m1\u001b[0m\u001b[1;33m,\u001b[0m \u001b[0mlamb\u001b[0m \u001b[1;33m=\u001b[0m \u001b[1;36m0\u001b[0m\u001b[1;33m)\u001b[0m\u001b[1;33m\u001b[0m\u001b[1;33m\u001b[0m\u001b[0m\n\u001b[0m",
      "\u001b[1;32m<ipython-input-7-a31a2da556b3>\u001b[0m in \u001b[0;36mSGD\u001b[1;34m(self, X, y, batchSize, nEpochs, learningRate, lamb)\u001b[0m\n\u001b[0;32m    144\u001b[0m             \u001b[0mnablaB\u001b[0m \u001b[1;33m=\u001b[0m \u001b[0mnp\u001b[0m\u001b[1;33m.\u001b[0m\u001b[0mzeros\u001b[0m\u001b[1;33m(\u001b[0m\u001b[0mself\u001b[0m\u001b[1;33m.\u001b[0m\u001b[0mnGates\u001b[0m\u001b[1;33m)\u001b[0m\u001b[1;33m\u001b[0m\u001b[1;33m\u001b[0m\u001b[0m\n\u001b[0;32m    145\u001b[0m             \u001b[1;32mfor\u001b[0m \u001b[0mi\u001b[0m \u001b[1;32min\u001b[0m \u001b[0mbatch\u001b[0m\u001b[1;33m:\u001b[0m\u001b[1;33m\u001b[0m\u001b[1;33m\u001b[0m\u001b[0m\n\u001b[1;32m--> 146\u001b[1;33m                 \u001b[0mself\u001b[0m\u001b[1;33m.\u001b[0m\u001b[0msetInput\u001b[0m\u001b[1;33m(\u001b[0m\u001b[0mX\u001b[0m\u001b[1;33m[\u001b[0m\u001b[0mi\u001b[0m\u001b[1;33m]\u001b[0m\u001b[1;33m)\u001b[0m\u001b[1;33m\u001b[0m\u001b[1;33m\u001b[0m\u001b[0m\n\u001b[0m\u001b[0;32m    147\u001b[0m                 \u001b[1;31m# finding what should be modified based on this particular example\u001b[0m\u001b[1;33m\u001b[0m\u001b[1;33m\u001b[0m\u001b[1;33m\u001b[0m\u001b[0m\n\u001b[0;32m    148\u001b[0m                 \u001b[0mdeltaNablaW\u001b[0m\u001b[1;33m,\u001b[0m \u001b[0mdeltaNablaU\u001b[0m\u001b[1;33m,\u001b[0m \u001b[0mdeltaNablaB\u001b[0m \u001b[1;33m=\u001b[0m \u001b[0mLSTM\u001b[0m\u001b[1;33m.\u001b[0m\u001b[0mbackProp\u001b[0m\u001b[1;33m(\u001b[0m\u001b[0my\u001b[0m\u001b[1;33m[\u001b[0m\u001b[0mi\u001b[0m\u001b[1;33m]\u001b[0m\u001b[1;33m)\u001b[0m\u001b[1;33m\u001b[0m\u001b[1;33m\u001b[0m\u001b[0m\n",
      "\u001b[1;32m<ipython-input-7-a31a2da556b3>\u001b[0m in \u001b[0;36msetInput\u001b[1;34m(self, x)\u001b[0m\n\u001b[0;32m     91\u001b[0m         \u001b[0mself\u001b[0m\u001b[1;33m.\u001b[0m\u001b[0mC\u001b[0m\u001b[1;33m[\u001b[0m\u001b[1;36m0\u001b[0m\u001b[1;33m]\u001b[0m\u001b[1;33m,\u001b[0m \u001b[0mself\u001b[0m\u001b[1;33m.\u001b[0m\u001b[0mh\u001b[0m\u001b[1;33m[\u001b[0m\u001b[1;36m0\u001b[0m\u001b[1;33m]\u001b[0m \u001b[1;33m=\u001b[0m \u001b[0mself\u001b[0m\u001b[1;33m.\u001b[0m\u001b[0mgetNewState\u001b[0m\u001b[1;33m(\u001b[0m\u001b[1;36m0\u001b[0m\u001b[1;33m,\u001b[0m \u001b[0mx\u001b[0m\u001b[1;33m[\u001b[0m\u001b[1;36m0\u001b[0m\u001b[1;33m]\u001b[0m\u001b[1;33m)\u001b[0m\u001b[1;33m\u001b[0m\u001b[1;33m\u001b[0m\u001b[0m\n\u001b[0;32m     92\u001b[0m         \u001b[1;32mfor\u001b[0m \u001b[0mt\u001b[0m \u001b[1;32min\u001b[0m \u001b[0mrange\u001b[0m\u001b[1;33m(\u001b[0m\u001b[1;36m1\u001b[0m\u001b[1;33m,\u001b[0m \u001b[0mself\u001b[0m\u001b[1;33m.\u001b[0m\u001b[0mnCells\u001b[0m\u001b[1;33m)\u001b[0m\u001b[1;33m:\u001b[0m\u001b[1;33m\u001b[0m\u001b[1;33m\u001b[0m\u001b[0m\n\u001b[1;32m---> 93\u001b[1;33m             \u001b[0mself\u001b[0m\u001b[1;33m.\u001b[0m\u001b[0mx\u001b[0m\u001b[1;33m[\u001b[0m\u001b[0mt\u001b[0m\u001b[1;33m]\u001b[0m \u001b[1;33m=\u001b[0m \u001b[0mx\u001b[0m\u001b[1;33m[\u001b[0m\u001b[0mt\u001b[0m\u001b[1;33m]\u001b[0m\u001b[1;33m\u001b[0m\u001b[1;33m\u001b[0m\u001b[0m\n\u001b[0m\u001b[0;32m     94\u001b[0m             \u001b[0mself\u001b[0m\u001b[1;33m.\u001b[0m\u001b[0mC\u001b[0m\u001b[1;33m[\u001b[0m\u001b[0mt\u001b[0m\u001b[1;33m]\u001b[0m\u001b[1;33m,\u001b[0m \u001b[0mself\u001b[0m\u001b[1;33m.\u001b[0m\u001b[0mh\u001b[0m\u001b[1;33m[\u001b[0m\u001b[0mt\u001b[0m\u001b[1;33m]\u001b[0m \u001b[1;33m=\u001b[0m \u001b[0mself\u001b[0m\u001b[1;33m.\u001b[0m\u001b[0mgetNewState\u001b[0m\u001b[1;33m(\u001b[0m\u001b[0mt\u001b[0m\u001b[1;33m,\u001b[0m \u001b[0mx\u001b[0m\u001b[1;33m[\u001b[0m\u001b[0mt\u001b[0m\u001b[1;33m]\u001b[0m\u001b[1;33m)\u001b[0m\u001b[1;33m\u001b[0m\u001b[1;33m\u001b[0m\u001b[0m\n\u001b[0;32m     95\u001b[0m         \u001b[1;32mreturn\u001b[0m\u001b[1;33m\u001b[0m\u001b[1;33m\u001b[0m\u001b[0m\n",
      "\u001b[1;31mIndexError\u001b[0m: index 80 is out of bounds for axis 0 with size 80"
     ]
    }
   ],
   "source": [
    "lstm = LSTM(nInputs=500, nFeatures=1, nCells=100, nOutputs=1, batchSize=1)\n",
    "\n",
    "\n",
    "lstm.SGD(train_X, train_y, batchSize=100, nEpochs=100, learningRate = 1, lamb = 0)"
   ]
  },
  {
   "cell_type": "code",
   "execution_count": null,
   "id": "d026ec5e",
   "metadata": {},
   "outputs": [],
   "source": [
    "def testNetwork(net: Network, test_X, test_y, nTests: int):\n",
    "    \"\"\"\n",
    "    A function to test our network\n",
    "    \n",
    "    It returns the overall accuracy and the numbers our network guessed\n",
    "    \"\"\"\n",
    "    \n",
    "    correctOutput = 0\n",
    "    X = test_X[:nTests]\n",
    "    y = test_y[:nTests]\n",
    "    outputs = np.zeros(10)\n",
    "    for i in range(nTests):\n",
    "        net = setInput(net, X[i])\n",
    "        networkOutput = np.argmax(net.a[-1])\n",
    "        outputs[networkOutput] += 1\n",
    "        #print(f\"number: {y[i]}, networkOutput: {networkOutput}, activations: {net.a[-1]}\")\n",
    "        if y[i] == networkOutput:\n",
    "            correctOutput += 1\n",
    "    acc = correctOutput/nTests\n",
    "    return acc, outputs\n"
   ]
  },
  {
   "cell_type": "code",
   "execution_count": null,
   "id": "38ebf075",
   "metadata": {
    "scrolled": true
   },
   "outputs": [],
   "source": [
    "# initializing the network and the dataset\n",
    "\n",
    "net = Network([784,30,10])\n",
    "(train_X, train_y), (test_X, test_y) = mnist.load_data()\n",
    "\n"
   ]
  },
  {
   "cell_type": "code",
   "execution_count": null,
   "id": "5918a0e9",
   "metadata": {
    "scrolled": true
   },
   "outputs": [],
   "source": [
    "net = gridSearch(net, train_X, train_y, test_X, test_y, batchSize=100, learningRates=[1.6], epochs=200, lamb=0)"
   ]
  },
  {
   "cell_type": "code",
   "execution_count": null,
   "id": "d2f632dd",
   "metadata": {
    "scrolled": false
   },
   "outputs": [],
   "source": [
    "testNetwork(net, test_X, test_y, len(test_X))"
   ]
  },
  {
   "cell_type": "code",
   "execution_count": null,
   "id": "4e5602a2",
   "metadata": {},
   "outputs": [],
   "source": [
    "# Seeing our network in action\n",
    "\n",
    "import matplotlib.pyplot as plt\n",
    "\n",
    "# pick a sample to plot\n",
    "sample = 50099\n",
    "image = train_X[sample]\n",
    "# plot the sample\n",
    "fig = plt.figure\n",
    "plt.imshow(image, cmap='gray')\n",
    "plt.show()\n",
    "\n",
    "net = setInput(net, train_X[sample])\n",
    "networkOutput = np.argmax(net.a[-1])\n",
    "networkOutput"
   ]
  }
 ],
 "metadata": {
  "kernelspec": {
   "display_name": "Python 3",
   "language": "python",
   "name": "python3"
  },
  "language_info": {
   "codemirror_mode": {
    "name": "ipython",
    "version": 3
   },
   "file_extension": ".py",
   "mimetype": "text/x-python",
   "name": "python",
   "nbconvert_exporter": "python",
   "pygments_lexer": "ipython3",
   "version": "3.8.8"
  }
 },
 "nbformat": 4,
 "nbformat_minor": 5
}
