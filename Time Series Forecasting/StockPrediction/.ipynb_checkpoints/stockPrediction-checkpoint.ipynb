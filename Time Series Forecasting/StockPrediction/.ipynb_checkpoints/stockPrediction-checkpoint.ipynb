{
 "cells": [
  {
   "cell_type": "code",
   "execution_count": 240,
   "id": "20a2fba3",
   "metadata": {},
   "outputs": [],
   "source": [
    "import pandas as pd\n",
    "import numpy as np\n",
    "import matplotlib.pyplot as plt\n",
    "import matplotlib.dates as mdates\n",
    "import tensorflow as tf\n",
    "from tensorflow.keras.models import Sequential\n",
    "from tensorflow.keras.layers import Dense\n",
    "from tensorflow.keras.layers import LSTM\n",
    "from sklearn.preprocessing import MinMaxScaler\n"
   ]
  },
  {
   "cell_type": "code",
   "execution_count": 241,
   "id": "7f443b0d",
   "metadata": {},
   "outputs": [],
   "source": [
    "tf.random.set_seed(42)"
   ]
  },
  {
   "cell_type": "code",
   "execution_count": 242,
   "id": "107aef97",
   "metadata": {},
   "outputs": [
    {
     "data": {
      "text/html": [
       "<div>\n",
       "<style scoped>\n",
       "    .dataframe tbody tr th:only-of-type {\n",
       "        vertical-align: middle;\n",
       "    }\n",
       "\n",
       "    .dataframe tbody tr th {\n",
       "        vertical-align: top;\n",
       "    }\n",
       "\n",
       "    .dataframe thead th {\n",
       "        text-align: right;\n",
       "    }\n",
       "</style>\n",
       "<table border=\"1\" class=\"dataframe\">\n",
       "  <thead>\n",
       "    <tr style=\"text-align: right;\">\n",
       "      <th></th>\n",
       "      <th>Date</th>\n",
       "      <th>Close</th>\n",
       "    </tr>\n",
       "  </thead>\n",
       "  <tbody>\n",
       "    <tr>\n",
       "      <th>0</th>\n",
       "      <td>1999-11-18</td>\n",
       "      <td>29.702</td>\n",
       "    </tr>\n",
       "    <tr>\n",
       "      <th>1</th>\n",
       "      <td>1999-11-19</td>\n",
       "      <td>27.257</td>\n",
       "    </tr>\n",
       "    <tr>\n",
       "      <th>2</th>\n",
       "      <td>1999-11-22</td>\n",
       "      <td>29.702</td>\n",
       "    </tr>\n",
       "    <tr>\n",
       "      <th>3</th>\n",
       "      <td>1999-11-23</td>\n",
       "      <td>27.002</td>\n",
       "    </tr>\n",
       "    <tr>\n",
       "      <th>4</th>\n",
       "      <td>1999-11-24</td>\n",
       "      <td>27.717</td>\n",
       "    </tr>\n",
       "    <tr>\n",
       "      <th>...</th>\n",
       "      <td>...</td>\n",
       "      <td>...</td>\n",
       "    </tr>\n",
       "    <tr>\n",
       "      <th>4516</th>\n",
       "      <td>2017-11-06</td>\n",
       "      <td>68.220</td>\n",
       "    </tr>\n",
       "    <tr>\n",
       "      <th>4517</th>\n",
       "      <td>2017-11-07</td>\n",
       "      <td>68.250</td>\n",
       "    </tr>\n",
       "    <tr>\n",
       "      <th>4518</th>\n",
       "      <td>2017-11-08</td>\n",
       "      <td>68.110</td>\n",
       "    </tr>\n",
       "    <tr>\n",
       "      <th>4519</th>\n",
       "      <td>2017-11-09</td>\n",
       "      <td>67.470</td>\n",
       "    </tr>\n",
       "    <tr>\n",
       "      <th>4520</th>\n",
       "      <td>2017-11-10</td>\n",
       "      <td>66.810</td>\n",
       "    </tr>\n",
       "  </tbody>\n",
       "</table>\n",
       "<p>4521 rows × 2 columns</p>\n",
       "</div>"
      ],
      "text/plain": [
       "            Date   Close\n",
       "0     1999-11-18  29.702\n",
       "1     1999-11-19  27.257\n",
       "2     1999-11-22  29.702\n",
       "3     1999-11-23  27.002\n",
       "4     1999-11-24  27.717\n",
       "...          ...     ...\n",
       "4516  2017-11-06  68.220\n",
       "4517  2017-11-07  68.250\n",
       "4518  2017-11-08  68.110\n",
       "4519  2017-11-09  67.470\n",
       "4520  2017-11-10  66.810\n",
       "\n",
       "[4521 rows x 2 columns]"
      ]
     },
     "execution_count": 242,
     "metadata": {},
     "output_type": "execute_result"
    }
   ],
   "source": [
    "stock = pd.read_csv(r'Stocks/a.us.txt')\n",
    "stock = stock[['Date', 'Close']]\n",
    "stock"
   ]
  },
  {
   "cell_type": "code",
   "execution_count": 243,
   "id": "0b6ffff4",
   "metadata": {},
   "outputs": [
    {
     "data": {
      "image/png": "[encoded data removed]",
      "text/plain": [
       "<Figure size 432x288 with 1 Axes>"
      ]
     },
     "metadata": {
      "needs_background": "light"
     },
     "output_type": "display_data"
    }
   ],
   "source": [
    "import datetime as dt\n",
    "\n",
    "x = [dt.datetime.strptime(d,'%Y-%m-%d').date() for d in stock['Date']]\n",
    "\n",
    "plt.gca().xaxis.set_major_formatter(mdates.DateFormatter('%m/%d/%Y'))\n",
    "plt.gca().xaxis.set_major_locator(mdates.DayLocator(interval=1000))\n",
    "plt.plot(x, stock['Close'])\n",
    "plt.gcf().autofmt_xdate()\n"
   ]
  },
  {
   "cell_type": "code",
   "execution_count": 244,
   "id": "63177b88",
   "metadata": {},
   "outputs": [],
   "source": [
    "# making the dataset stationary\n",
    "\n",
    "def difference(dataset, interval=1):\n",
    "    diff = list()\n",
    "    for i in range(interval, len(dataset)):\n",
    "        value = dataset['Close'][i] - dataset['Close'][i - interval]\n",
    "        diff.append(value)\n",
    "    return pd.Series(diff)\n",
    "\n",
    "def inverse_difference(history, yhat, interval=1):\n",
    "    return yhat + history[-interval]\n",
    "\n",
    "diff = difference(stock)"
   ]
  },
  {
   "cell_type": "code",
   "execution_count": 245,
   "id": "bdf4485f",
   "metadata": {},
   "outputs": [
    {
     "data": {
      "text/plain": [
       "0      -0.537284\n",
       "1      -0.333347\n",
       "2      -0.547919\n",
       "3      -0.405497\n",
       "4      -0.431562\n",
       "          ...   \n",
       "4515   -0.441571\n",
       "4516   -0.434065\n",
       "4517   -0.441154\n",
       "4518   -0.462007\n",
       "4519   -0.462841\n",
       "Length: 4520, dtype: float64"
      ]
     },
     "execution_count": 245,
     "metadata": {},
     "output_type": "execute_result"
    }
   ],
   "source": [
    "# Transforming the dataset into -1 and +1 values for the tanh activation function\n",
    "\n",
    "from sklearn.preprocessing import MinMaxScaler\n",
    "\n",
    "X = diff.values\n",
    "X = X.reshape(len(X), 1)\n",
    "scaler = MinMaxScaler(feature_range=(-1, 1))\n",
    "scaler = scaler.fit(X)\n",
    "scaled_X = scaler.transform(X)\n",
    "scaled_series = pd.Series(scaled_X[:, 0])\n",
    "scaled_series"
   ]
  },
  {
   "cell_type": "code",
   "execution_count": 246,
   "id": "cd2ca9c1",
   "metadata": {},
   "outputs": [],
   "source": [
    "def get_train_test(dataset, train_test_ratio, n_days):\n",
    "    n_train = int(len(dataset)*train_test_ratio)\n",
    "    l = []\n",
    "    l.append('id')\n",
    "    for j in range(1, n_days+1):\n",
    "        l.append(f'Price_{j}_db')\n",
    "    l.append('Price_today')\n",
    "    X = pd.DataFrame(columns=l)\n",
    "    for i in range(n_days, len(dataset)):\n",
    "        row = pd.DataFrame()\n",
    "        row['id'] = [i-n_days]\n",
    "        for j in range(1, n_days + 1):\n",
    "            row[f'Price_{j}_db'] = [dataset[i-j]]\n",
    "        row['Price_today'] = [dataset[i]]\n",
    "        X = pd.concat([X,row], ignore_index=True)\n",
    "\n",
    "    X = X.set_index('id', drop=True)    \n",
    "    #print(X)\n",
    "    train = X[:n_train]\n",
    "    test = X[n_train:-1]\n",
    "    return train, test"
   ]
  },
  {
   "cell_type": "code",
   "execution_count": 247,
   "id": "504a493f",
   "metadata": {
    "scrolled": true
   },
   "outputs": [
    {
     "data": {
      "text/html": [
       "<div>\n",
       "<style scoped>\n",
       "    .dataframe tbody tr th:only-of-type {\n",
       "        vertical-align: middle;\n",
       "    }\n",
       "\n",
       "    .dataframe tbody tr th {\n",
       "        vertical-align: top;\n",
       "    }\n",
       "\n",
       "    .dataframe thead th {\n",
       "        text-align: right;\n",
       "    }\n",
       "</style>\n",
       "<table border=\"1\" class=\"dataframe\">\n",
       "  <thead>\n",
       "    <tr style=\"text-align: right;\">\n",
       "      <th></th>\n",
       "      <th>Price_1_db</th>\n",
       "      <th>Price_2_db</th>\n",
       "      <th>Price_3_db</th>\n",
       "      <th>Price_4_db</th>\n",
       "      <th>Price_5_db</th>\n",
       "      <th>Price_today</th>\n",
       "    </tr>\n",
       "    <tr>\n",
       "      <th>id</th>\n",
       "      <th></th>\n",
       "      <th></th>\n",
       "      <th></th>\n",
       "      <th></th>\n",
       "      <th></th>\n",
       "      <th></th>\n",
       "    </tr>\n",
       "  </thead>\n",
       "  <tbody>\n",
       "    <tr>\n",
       "      <th>0</th>\n",
       "      <td>-0.431562</td>\n",
       "      <td>-0.405497</td>\n",
       "      <td>-0.547919</td>\n",
       "      <td>-0.333347</td>\n",
       "      <td>-0.537284</td>\n",
       "      <td>-0.409250</td>\n",
       "    </tr>\n",
       "    <tr>\n",
       "      <th>1</th>\n",
       "      <td>-0.409250</td>\n",
       "      <td>-0.431562</td>\n",
       "      <td>-0.405497</td>\n",
       "      <td>-0.547919</td>\n",
       "      <td>-0.333347</td>\n",
       "      <td>-0.433314</td>\n",
       "    </tr>\n",
       "    <tr>\n",
       "      <th>2</th>\n",
       "      <td>-0.433314</td>\n",
       "      <td>-0.409250</td>\n",
       "      <td>-0.431562</td>\n",
       "      <td>-0.405497</td>\n",
       "      <td>-0.547919</td>\n",
       "      <td>-0.414213</td>\n",
       "    </tr>\n",
       "    <tr>\n",
       "      <th>3</th>\n",
       "      <td>-0.414213</td>\n",
       "      <td>-0.433314</td>\n",
       "      <td>-0.409250</td>\n",
       "      <td>-0.431562</td>\n",
       "      <td>-0.405497</td>\n",
       "      <td>-0.401952</td>\n",
       "    </tr>\n",
       "    <tr>\n",
       "      <th>4</th>\n",
       "      <td>-0.401952</td>\n",
       "      <td>-0.414213</td>\n",
       "      <td>-0.433314</td>\n",
       "      <td>-0.409250</td>\n",
       "      <td>-0.431562</td>\n",
       "      <td>-0.424764</td>\n",
       "    </tr>\n",
       "    <tr>\n",
       "      <th>...</th>\n",
       "      <td>...</td>\n",
       "      <td>...</td>\n",
       "      <td>...</td>\n",
       "      <td>...</td>\n",
       "      <td>...</td>\n",
       "      <td>...</td>\n",
       "    </tr>\n",
       "    <tr>\n",
       "      <th>3611</th>\n",
       "      <td>-0.472016</td>\n",
       "      <td>-0.479064</td>\n",
       "      <td>-0.405413</td>\n",
       "      <td>-0.426349</td>\n",
       "      <td>-0.470431</td>\n",
       "      <td>-0.438902</td>\n",
       "    </tr>\n",
       "    <tr>\n",
       "      <th>3612</th>\n",
       "      <td>-0.438902</td>\n",
       "      <td>-0.472016</td>\n",
       "      <td>-0.479064</td>\n",
       "      <td>-0.405413</td>\n",
       "      <td>-0.426349</td>\n",
       "      <td>-0.422054</td>\n",
       "    </tr>\n",
       "    <tr>\n",
       "      <th>3613</th>\n",
       "      <td>-0.422054</td>\n",
       "      <td>-0.438902</td>\n",
       "      <td>-0.472016</td>\n",
       "      <td>-0.479064</td>\n",
       "      <td>-0.405413</td>\n",
       "      <td>-0.418884</td>\n",
       "    </tr>\n",
       "    <tr>\n",
       "      <th>3614</th>\n",
       "      <td>-0.418884</td>\n",
       "      <td>-0.422054</td>\n",
       "      <td>-0.438902</td>\n",
       "      <td>-0.472016</td>\n",
       "      <td>-0.479064</td>\n",
       "      <td>-0.407457</td>\n",
       "    </tr>\n",
       "    <tr>\n",
       "      <th>3615</th>\n",
       "      <td>-0.407457</td>\n",
       "      <td>-0.418884</td>\n",
       "      <td>-0.422054</td>\n",
       "      <td>-0.438902</td>\n",
       "      <td>-0.472016</td>\n",
       "      <td>-0.434106</td>\n",
       "    </tr>\n",
       "  </tbody>\n",
       "</table>\n",
       "<p>3616 rows × 6 columns</p>\n",
       "</div>"
      ],
      "text/plain": [
       "      Price_1_db  Price_2_db  Price_3_db  Price_4_db  Price_5_db  Price_today\n",
       "id                                                                           \n",
       "0      -0.431562   -0.405497   -0.547919   -0.333347   -0.537284    -0.409250\n",
       "1      -0.409250   -0.431562   -0.405497   -0.547919   -0.333347    -0.433314\n",
       "2      -0.433314   -0.409250   -0.431562   -0.405497   -0.547919    -0.414213\n",
       "3      -0.414213   -0.433314   -0.409250   -0.431562   -0.405497    -0.401952\n",
       "4      -0.401952   -0.414213   -0.433314   -0.409250   -0.431562    -0.424764\n",
       "...          ...         ...         ...         ...         ...          ...\n",
       "3611   -0.472016   -0.479064   -0.405413   -0.426349   -0.470431    -0.438902\n",
       "3612   -0.438902   -0.472016   -0.479064   -0.405413   -0.426349    -0.422054\n",
       "3613   -0.422054   -0.438902   -0.472016   -0.479064   -0.405413    -0.418884\n",
       "3614   -0.418884   -0.422054   -0.438902   -0.472016   -0.479064    -0.407457\n",
       "3615   -0.407457   -0.418884   -0.422054   -0.438902   -0.472016    -0.434106\n",
       "\n",
       "[3616 rows x 6 columns]"
      ]
     },
     "execution_count": 247,
     "metadata": {},
     "output_type": "execute_result"
    }
   ],
   "source": [
    "train, test = get_train_test(scaled_series, 0.8, 5)\n",
    "train"
   ]
  },
  {
   "cell_type": "code",
   "execution_count": 248,
   "id": "5d79df7b",
   "metadata": {},
   "outputs": [],
   "source": [
    "train_y = train['Price_today']\n",
    "train_X = train.drop(['Price_today'], axis=1)\n",
    "\n",
    "test_y = test['Price_today']\n",
    "test_X = train.drop(['Price_today'], axis=1)\n"
   ]
  },
  {
   "cell_type": "code",
   "execution_count": 249,
   "id": "577e4eed",
   "metadata": {
    "scrolled": true
   },
   "outputs": [],
   "source": [
    "def fit_lstm(train_X, train_y, batch_size, n_epochs, n_neurons):\n",
    "    train_y = train_y.to_numpy()\n",
    "    train_X = train_X.to_numpy()\n",
    "    train_X = train_X.reshape(train_X.shape[0], train_X.shape[1], 1)\n",
    "    np.shape(X)    \n",
    "    model = Sequential()\n",
    "    model.add(LSTM(n_neurons, activation='relu', batch_input_shape=(batch_size, train_X.shape[1], 1), stateful=True))\n",
    "    model.add(Dense(1))\n",
    "    model.compile(optimizer='adam', loss='mse')\n",
    "    history = model.fit(train_X, train_y, epochs=n_epochs, batch_size=batch_size, verbose=1, shuffle=False)\n",
    "\n",
    "    return model, history"
   ]
  },
  {
   "cell_type": "code",
   "execution_count": null,
   "id": "74b952ee",
   "metadata": {
    "scrolled": true
   },
   "outputs": [
    {
     "name": "stdout",
     "output_type": "stream",
     "text": [
      "Epoch 1/50\n",
      "3616/3616 [==============================] - 7s 2ms/step - loss: 0.0032\n",
      "Epoch 2/50\n",
      "3616/3616 [==============================] - 7s 2ms/step - loss: 0.0025\n",
      "Epoch 3/50\n",
      "3616/3616 [==============================] - 7s 2ms/step - loss: 0.0025\n",
      "Epoch 4/50\n",
      "3616/3616 [==============================] - 7s 2ms/step - loss: 0.0024\n",
      "Epoch 5/50\n",
      "3616/3616 [==============================] - 7s 2ms/step - loss: 0.0024\n",
      "Epoch 6/50\n",
      "3616/3616 [==============================] - 7s 2ms/step - loss: 0.0024\n",
      "Epoch 7/50\n",
      "3616/3616 [==============================] - 7s 2ms/step - loss: 0.0023\n",
      "Epoch 8/50\n",
      "3616/3616 [==============================] - 7s 2ms/step - loss: 0.0023\n",
      "Epoch 9/50\n",
      "3616/3616 [==============================] - 7s 2ms/step - loss: 0.0023\n",
      "Epoch 10/50\n",
      "3616/3616 [==============================] - 7s 2ms/step - loss: 0.0023\n",
      "Epoch 11/50\n",
      "3616/3616 [==============================] - 7s 2ms/step - loss: 0.0023\n",
      "Epoch 12/50\n",
      "3616/3616 [==============================] - 7s 2ms/step - loss: 0.0023\n",
      "Epoch 13/50\n",
      "3616/3616 [==============================] - 7s 2ms/step - loss: 0.0023\n",
      "Epoch 14/50\n",
      "3616/3616 [==============================] - 7s 2ms/step - loss: 0.0023\n",
      "Epoch 15/50\n",
      "3616/3616 [==============================] - 7s 2ms/step - loss: 0.0023\n",
      "Epoch 16/50\n",
      "3616/3616 [==============================] - 7s 2ms/step - loss: 0.0023\n",
      "Epoch 17/50\n",
      "3616/3616 [==============================] - 7s 2ms/step - loss: 0.0023\n",
      "Epoch 18/50\n",
      "3616/3616 [==============================] - 7s 2ms/step - loss: 0.0023\n",
      "Epoch 19/50\n",
      "3616/3616 [==============================] - 7s 2ms/step - loss: 0.0023\n",
      "Epoch 20/50\n",
      "3616/3616 [==============================] - 7s 2ms/step - loss: 0.0023\n",
      "Epoch 21/50\n",
      "3616/3616 [==============================] - 7s 2ms/step - loss: 0.0023\n",
      "Epoch 22/50\n",
      "3616/3616 [==============================] - 7s 2ms/step - loss: 0.0023\n",
      "Epoch 23/50\n",
      "3616/3616 [==============================] - 7s 2ms/step - loss: 0.0023\n",
      "Epoch 24/50\n",
      "3616/3616 [==============================] - 7s 2ms/step - loss: 0.0023\n",
      "Epoch 25/50\n",
      "3616/3616 [==============================] - 7s 2ms/step - loss: 0.0023\n",
      "Epoch 26/50\n",
      "3616/3616 [==============================] - 7s 2ms/step - loss: 0.0023\n",
      "Epoch 27/50\n",
      "3616/3616 [==============================] - 7s 2ms/step - loss: 0.0023\n",
      "Epoch 28/50\n",
      "3616/3616 [==============================] - 7s 2ms/step - loss: 0.0023\n",
      "Epoch 29/50\n",
      "3616/3616 [==============================] - 7s 2ms/step - loss: 0.0023\n",
      "Epoch 30/50\n",
      "3616/3616 [==============================] - 7s 2ms/step - loss: 0.0023\n",
      "Epoch 31/50\n",
      "3616/3616 [==============================] - 7s 2ms/step - loss: 0.0023\n",
      "Epoch 32/50\n",
      "3616/3616 [==============================] - 7s 2ms/step - loss: 0.0023\n",
      "Epoch 33/50\n",
      "3616/3616 [==============================] - 7s 2ms/step - loss: 0.0023\n",
      "Epoch 34/50\n",
      "3616/3616 [==============================] - 7s 2ms/step - loss: 0.0023\n",
      "Epoch 35/50\n",
      "3616/3616 [==============================] - 7s 2ms/step - loss: 0.0023\n",
      "Epoch 36/50\n",
      "3616/3616 [==============================] - 7s 2ms/step - loss: 0.0023\n",
      "Epoch 37/50\n",
      "3616/3616 [==============================] - 7s 2ms/step - loss: 0.0023\n",
      "Epoch 38/50\n",
      "3616/3616 [==============================] - 7s 2ms/step - loss: 0.0023\n",
      "Epoch 39/50\n",
      "3616/3616 [==============================] - 7s 2ms/step - loss: 0.0023\n",
      "Epoch 40/50\n",
      "3616/3616 [==============================] - 7s 2ms/step - loss: 0.0023\n",
      "Epoch 41/50\n",
      "3616/3616 [==============================] - 7s 2ms/step - loss: 0.0022\n",
      "Epoch 42/50\n",
      "3616/3616 [==============================] - 7s 2ms/step - loss: 0.0023\n",
      "Epoch 43/50\n",
      "3616/3616 [==============================] - 7s 2ms/step - loss: 0.0022\n",
      "Epoch 44/50\n",
      "3616/3616 [==============================] - 7s 2ms/step - loss: 0.0022\n",
      "Epoch 45/50\n",
      "3616/3616 [==============================] - 7s 2ms/step - loss: 0.0022\n",
      "Epoch 46/50\n",
      " 548/3616 [===>..........................] - ETA: 14s - loss: 0.0125"
     ]
    }
   ],
   "source": [
    "model, history = fit_lstm(train_X, train_y, 1, 50, 5)"
   ]
  },
  {
   "cell_type": "code",
   "execution_count": null,
   "id": "d796541d",
   "metadata": {
    "scrolled": false
   },
   "outputs": [],
   "source": [
    "plt.plot(history.history['loss'][1:])\n",
    "plt.show()"
   ]
  },
  {
   "cell_type": "code",
   "execution_count": 233,
   "id": "528898c9",
   "metadata": {},
   "outputs": [
    {
     "data": {
      "text/plain": [
       "array([[-0.43156227, -0.40549671, -0.54791893, -0.33334723, -0.53728418],\n",
       "       [-0.40925015, -0.43156227, -0.40549671, -0.54791893, -0.33334723],\n",
       "       [-0.43331387, -0.40925015, -0.43156227, -0.40549671, -0.54791893],\n",
       "       ...,\n",
       "       [-0.42205355, -0.43890233, -0.47201601, -0.47906414, -0.4054133 ],\n",
       "       [-0.41888398, -0.42205355, -0.43890233, -0.47201601, -0.47906414],\n",
       "       [-0.40745684, -0.41888398, -0.42205355, -0.43890233, -0.47201601]])"
      ]
     },
     "execution_count": 233,
     "metadata": {},
     "output_type": "execute_result"
    }
   ],
   "source": [
    "train_X = train_X.top_numpy()\n",
    "X = X.reshape(1, 5, len(X))"
   ]
  },
  {
   "cell_type": "code",
   "execution_count": 238,
   "id": "9f8f8ad0",
   "metadata": {
    "scrolled": false
   },
   "outputs": [
    {
     "data": {
      "text/plain": [
       "array([[-0.43898818]], dtype=float32)"
      ]
     },
     "execution_count": 238,
     "metadata": {},
     "output_type": "execute_result"
    }
   ],
   "source": [
    "model.predict(X[:,:,10], batch_size=1)"
   ]
  }
 ],
 "metadata": {
  "kernelspec": {
   "display_name": "Python 3",
   "language": "python",
   "name": "python3"
  },
  "language_info": {
   "codemirror_mode": {
    "name": "ipython",
    "version": 3
   },
   "file_extension": ".py",
   "mimetype": "text/x-python",
   "name": "python",
   "nbconvert_exporter": "python",
   "pygments_lexer": "ipython3",
   "version": "3.8.8"
  }
 },
 "nbformat": 4,
 "nbformat_minor": 5
}
