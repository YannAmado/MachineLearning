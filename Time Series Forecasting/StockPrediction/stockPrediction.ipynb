{
 "cells": [
  {
   "cell_type": "code",
   "execution_count": 77,
   "id": "20a2fba3",
   "metadata": {},
   "outputs": [],
   "source": [
    "import pandas as pd\n",
    "import numpy as np\n",
    "import matplotlib.pyplot as plt\n",
    "import matplotlib.dates as mdates\n",
    "import tensorflow as tf\n",
    "from tensorflow.keras.models import Sequential\n",
    "from tensorflow.keras.layers import Dense\n",
    "from tensorflow.keras.layers import LSTM\n",
    "from sklearn.preprocessing import MinMaxScaler\n"
   ]
  },
  {
   "cell_type": "code",
   "execution_count": 78,
   "id": "7f443b0d",
   "metadata": {},
   "outputs": [],
   "source": [
    "tf.random.set_seed(42)"
   ]
  },
  {
   "cell_type": "code",
   "execution_count": 79,
   "id": "107aef97",
   "metadata": {},
   "outputs": [
    {
     "data": {
      "text/html": [
       "<div>\n",
       "<style scoped>\n",
       "    .dataframe tbody tr th:only-of-type {\n",
       "        vertical-align: middle;\n",
       "    }\n",
       "\n",
       "    .dataframe tbody tr th {\n",
       "        vertical-align: top;\n",
       "    }\n",
       "\n",
       "    .dataframe thead th {\n",
       "        text-align: right;\n",
       "    }\n",
       "</style>\n",
       "<table border=\"1\" class=\"dataframe\">\n",
       "  <thead>\n",
       "    <tr style=\"text-align: right;\">\n",
       "      <th></th>\n",
       "      <th>Date</th>\n",
       "      <th>Close</th>\n",
       "    </tr>\n",
       "  </thead>\n",
       "  <tbody>\n",
       "    <tr>\n",
       "      <th>0</th>\n",
       "      <td>1999-11-18</td>\n",
       "      <td>29.702</td>\n",
       "    </tr>\n",
       "    <tr>\n",
       "      <th>1</th>\n",
       "      <td>1999-11-19</td>\n",
       "      <td>27.257</td>\n",
       "    </tr>\n",
       "    <tr>\n",
       "      <th>2</th>\n",
       "      <td>1999-11-22</td>\n",
       "      <td>29.702</td>\n",
       "    </tr>\n",
       "    <tr>\n",
       "      <th>3</th>\n",
       "      <td>1999-11-23</td>\n",
       "      <td>27.002</td>\n",
       "    </tr>\n",
       "    <tr>\n",
       "      <th>4</th>\n",
       "      <td>1999-11-24</td>\n",
       "      <td>27.717</td>\n",
       "    </tr>\n",
       "    <tr>\n",
       "      <th>...</th>\n",
       "      <td>...</td>\n",
       "      <td>...</td>\n",
       "    </tr>\n",
       "    <tr>\n",
       "      <th>4516</th>\n",
       "      <td>2017-11-06</td>\n",
       "      <td>68.220</td>\n",
       "    </tr>\n",
       "    <tr>\n",
       "      <th>4517</th>\n",
       "      <td>2017-11-07</td>\n",
       "      <td>68.250</td>\n",
       "    </tr>\n",
       "    <tr>\n",
       "      <th>4518</th>\n",
       "      <td>2017-11-08</td>\n",
       "      <td>68.110</td>\n",
       "    </tr>\n",
       "    <tr>\n",
       "      <th>4519</th>\n",
       "      <td>2017-11-09</td>\n",
       "      <td>67.470</td>\n",
       "    </tr>\n",
       "    <tr>\n",
       "      <th>4520</th>\n",
       "      <td>2017-11-10</td>\n",
       "      <td>66.810</td>\n",
       "    </tr>\n",
       "  </tbody>\n",
       "</table>\n",
       "<p>4521 rows × 2 columns</p>\n",
       "</div>"
      ],
      "text/plain": [
       "            Date   Close\n",
       "0     1999-11-18  29.702\n",
       "1     1999-11-19  27.257\n",
       "2     1999-11-22  29.702\n",
       "3     1999-11-23  27.002\n",
       "4     1999-11-24  27.717\n",
       "...          ...     ...\n",
       "4516  2017-11-06  68.220\n",
       "4517  2017-11-07  68.250\n",
       "4518  2017-11-08  68.110\n",
       "4519  2017-11-09  67.470\n",
       "4520  2017-11-10  66.810\n",
       "\n",
       "[4521 rows x 2 columns]"
      ]
     },
     "execution_count": 79,
     "metadata": {},
     "output_type": "execute_result"
    }
   ],
   "source": [
    "stock = pd.read_csv(r'Stocks/a.us.txt')\n",
    "stock = stock[['Date', 'Close']]\n",
    "stock"
   ]
  },
  {
   "cell_type": "code",
   "execution_count": 80,
   "id": "0b6ffff4",
   "metadata": {},
   "outputs": [
    {
     "data": {
      "image/png": "[encoded data removed]",
      "text/plain": [
       "<Figure size 432x288 with 1 Axes>"
      ]
     },
     "metadata": {
      "needs_background": "light"
     },
     "output_type": "display_data"
    }
   ],
   "source": [
    "# Plotting the data\n",
    "import datetime as dt\n",
    "\n",
    "x = [dt.datetime.strptime(d,'%Y-%m-%d').date() for d in stock['Date']]\n",
    "\n",
    "plt.gca().xaxis.set_major_formatter(mdates.DateFormatter('%m/%d/%Y'))\n",
    "plt.gca().xaxis.set_major_locator(mdates.DayLocator(interval=1000))\n",
    "plt.plot(x, stock['Close'])\n",
    "plt.gcf().autofmt_xdate()\n"
   ]
  },
  {
   "cell_type": "code",
   "execution_count": 85,
   "id": "5a0de22a",
   "metadata": {},
   "outputs": [],
   "source": [
    "from sklearn.preprocessing import MinMaxScaler\n",
    "\n",
    "# making the dataset stationary\n",
    "def difference(dataset, interval=1):\n",
    "    diff = list()\n",
    "    for i in range(interval, len(dataset)):\n",
    "        value = dataset['Close'][i] - dataset['Close'][i - interval]\n",
    "        diff.append(value)\n",
    "    return pd.Series(diff)\n",
    "\n",
    "def inverse_difference(history, yhat, interval=1):\n",
    "    return yhat + history[-interval]\n",
    "\n",
    "\n",
    "\n",
    "# Transforming the dataset into -1 and +1 values for the tanh activation function\n",
    "def scale_dataset(X):\n",
    "    X = X.reshape(len(X), 1)\n",
    "    scaler = MinMaxScaler(feature_range=(-1, 1))\n",
    "    scaler = scaler.fit(X)\n",
    "    scaled_X = scaler.transform(X)\n",
    "    scaled_series = pd.Series(scaled_X[:, 0])\n",
    "    return scaled_series, scaler\n",
    "\n"
   ]
  },
  {
   "cell_type": "code",
   "execution_count": 94,
   "id": "cd2ca9c1",
   "metadata": {},
   "outputs": [],
   "source": [
    "def get_train_test(dataset, train_test_ratio, n_days):\n",
    "    n_train = int(len(dataset)*train_test_ratio)\n",
    "    l = []\n",
    "    l.append('id')\n",
    "    for j in range(1, n_days+1):\n",
    "        l.append(f'Price_{j}_db')\n",
    "    l.append('Price_today')\n",
    "    X = pd.DataFrame(columns=l)\n",
    "    for i in range(n_days, len(dataset)):\n",
    "        row = pd.DataFrame()\n",
    "        row['id'] = [i-n_days]\n",
    "        for j in range(1, n_days + 1):\n",
    "            row[f'Price_{j}_db'] = [dataset[i-j]]\n",
    "        row['Price_today'] = [dataset[i]]\n",
    "        X = pd.concat([X,row], ignore_index=True)\n",
    "    X = X.set_index('id', drop=True)    \n",
    "    train = X[:n_train]\n",
    "    test = X[n_train:-1]\n",
    "    return train, test"
   ]
  },
  {
   "cell_type": "code",
   "execution_count": 95,
   "id": "88ca1420",
   "metadata": {},
   "outputs": [],
   "source": [
    "# diff_dataset = difference(stock)\n",
    "scaled_dataset, scaler = scale_dataset(stock['Close'].to_numpy())\n",
    "train, test = get_train_test(scaled_dataset, 0.8, 5)\n",
    "\n",
    "train_y = train['Price_today']\n",
    "train_X = train.drop(['Price_today'], axis=1)\n",
    "\n",
    "test_y = test['Price_today']\n",
    "test_X = train.drop(['Price_today'], axis=1)\n"
   ]
  },
  {
   "cell_type": "code",
   "execution_count": 97,
   "id": "577e4eed",
   "metadata": {
    "scrolled": true
   },
   "outputs": [],
   "source": [
    "def fit_lstm(train_X, train_y, batch_size, n_epochs, n_neurons):\n",
    "    train_y = train_y.to_numpy()\n",
    "    train_X = train_X.to_numpy()\n",
    "    train_X = train_X.reshape(train_X.shape[0], train_X.shape[1], 1)\n",
    "    model = Sequential()\n",
    "    model.add(LSTM(n_neurons, activation='relu', input_shape=(train_X.shape[1], 1)))\n",
    "    model.add(Dense(1))\n",
    "    model.compile(optimizer='adam', loss='mse')\n",
    "    history = model.fit(train_X, train_y, epochs=n_epochs, batch_size=batch_size, verbose=1, shuffle=False)\n",
    "\n",
    "    return model, history"
   ]
  },
  {
   "cell_type": "code",
   "execution_count": 98,
   "id": "30963075",
   "metadata": {
    "scrolled": true
   },
   "outputs": [
    {
     "name": "stdout",
     "output_type": "stream",
     "text": [
      "Epoch 1/50\n",
      "3616/3616 [==============================] - 8s 2ms/step - loss: 0.0045\n",
      "Epoch 2/50\n",
      "3616/3616 [==============================] - 7s 2ms/step - loss: 0.0023\n",
      "Epoch 3/50\n",
      "3616/3616 [==============================] - 7s 2ms/step - loss: 0.0020\n",
      "Epoch 4/50\n",
      "3616/3616 [==============================] - 7s 2ms/step - loss: 0.0018\n",
      "Epoch 5/50\n",
      "3616/3616 [==============================] - 7s 2ms/step - loss: 0.0018\n",
      "Epoch 6/50\n",
      "3616/3616 [==============================] - 7s 2ms/step - loss: 0.0018\n",
      "Epoch 7/50\n",
      "3616/3616 [==============================] - 7s 2ms/step - loss: 0.0018\n",
      "Epoch 8/50\n",
      "3616/3616 [==============================] - 7s 2ms/step - loss: 0.0019\n",
      "Epoch 9/50\n",
      "3616/3616 [==============================] - 7s 2ms/step - loss: 0.0018\n",
      "Epoch 10/50\n",
      "3616/3616 [==============================] - 7s 2ms/step - loss: 0.0019\n",
      "Epoch 11/50\n",
      "3616/3616 [==============================] - 8s 2ms/step - loss: 0.0019\n",
      "Epoch 12/50\n",
      "3616/3616 [==============================] - 7s 2ms/step - loss: 0.0018\n",
      "Epoch 13/50\n",
      "3616/3616 [==============================] - 7s 2ms/step - loss: 0.0017\n",
      "Epoch 14/50\n",
      "3616/3616 [==============================] - 8s 2ms/step - loss: 0.0017\n",
      "Epoch 15/50\n",
      "3616/3616 [==============================] - 7s 2ms/step - loss: 0.0017\n",
      "Epoch 16/50\n",
      "3616/3616 [==============================] - 7s 2ms/step - loss: 0.0017\n",
      "Epoch 17/50\n",
      "3616/3616 [==============================] - 7s 2ms/step - loss: 0.0017\n",
      "Epoch 18/50\n",
      "3616/3616 [==============================] - 7s 2ms/step - loss: 0.0017\n",
      "Epoch 19/50\n",
      "3616/3616 [==============================] - 7s 2ms/step - loss: 0.0017\n",
      "Epoch 20/50\n",
      "3616/3616 [==============================] - 7s 2ms/step - loss: 0.0016\n",
      "Epoch 21/50\n",
      "3616/3616 [==============================] - 8s 2ms/step - loss: 0.0016\n",
      "Epoch 22/50\n",
      "3616/3616 [==============================] - 8s 2ms/step - loss: 0.0016\n",
      "Epoch 23/50\n",
      "3616/3616 [==============================] - 8s 2ms/step - loss: 0.0016\n",
      "Epoch 24/50\n",
      "3616/3616 [==============================] - 7s 2ms/step - loss: 0.0016\n",
      "Epoch 25/50\n",
      "3616/3616 [==============================] - 8s 2ms/step - loss: 0.0016\n",
      "Epoch 26/50\n",
      "3616/3616 [==============================] - 7s 2ms/step - loss: 0.0016\n",
      "Epoch 27/50\n",
      "3616/3616 [==============================] - 7s 2ms/step - loss: 0.0016\n",
      "Epoch 28/50\n",
      "3616/3616 [==============================] - 7s 2ms/step - loss: 0.0015\n",
      "Epoch 29/50\n",
      "3616/3616 [==============================] - 7s 2ms/step - loss: 0.0015\n",
      "Epoch 30/50\n",
      "3616/3616 [==============================] - 8s 2ms/step - loss: 0.0015\n",
      "Epoch 31/50\n",
      "3616/3616 [==============================] - 7s 2ms/step - loss: 0.0015\n",
      "Epoch 32/50\n",
      "3616/3616 [==============================] - 8s 2ms/step - loss: 0.0015\n",
      "Epoch 33/50\n",
      "3616/3616 [==============================] - 8s 2ms/step - loss: 0.0015\n",
      "Epoch 34/50\n",
      "3616/3616 [==============================] - 8s 2ms/step - loss: 0.0014\n",
      "Epoch 35/50\n",
      "3616/3616 [==============================] - 7s 2ms/step - loss: 0.0014\n",
      "Epoch 36/50\n",
      "3616/3616 [==============================] - 8s 2ms/step - loss: 0.0014\n",
      "Epoch 37/50\n",
      "3616/3616 [==============================] - 9s 2ms/step - loss: 0.0014\n",
      "Epoch 38/50\n",
      "3616/3616 [==============================] - 9s 2ms/step - loss: 0.0014\n",
      "Epoch 39/50\n",
      "3616/3616 [==============================] - 8s 2ms/step - loss: 0.0014\n",
      "Epoch 40/50\n",
      "3616/3616 [==============================] - 7s 2ms/step - loss: 0.0014\n",
      "Epoch 41/50\n",
      "3616/3616 [==============================] - 8s 2ms/step - loss: 0.0014\n",
      "Epoch 42/50\n",
      "3616/3616 [==============================] - 8s 2ms/step - loss: 0.0014\n",
      "Epoch 43/50\n",
      "3616/3616 [==============================] - 7s 2ms/step - loss: 0.0014\n",
      "Epoch 44/50\n",
      "3616/3616 [==============================] - 8s 2ms/step - loss: 0.0014\n",
      "Epoch 45/50\n",
      "3616/3616 [==============================] - 8s 2ms/step - loss: 0.0013\n",
      "Epoch 46/50\n",
      "3616/3616 [==============================] - 8s 2ms/step - loss: 0.0013\n",
      "Epoch 47/50\n",
      "3616/3616 [==============================] - 7s 2ms/step - loss: 0.0013\n",
      "Epoch 48/50\n",
      "3616/3616 [==============================] - 8s 2ms/step - loss: 0.0013\n",
      "Epoch 49/50\n",
      "3616/3616 [==============================] - 8s 2ms/step - loss: 0.0013\n",
      "Epoch 50/50\n",
      "3616/3616 [==============================] - 8s 2ms/step - loss: 0.0013\n"
     ]
    }
   ],
   "source": [
    "model, history = fit_lstm(train_X, train_y, batch_size=1, n_epochs=50, n_neurons=5)"
   ]
  },
  {
   "cell_type": "code",
   "execution_count": 99,
   "id": "9a511089",
   "metadata": {
    "scrolled": false
   },
   "outputs": [
    {
     "data": {
      "image/png": "[encoded data removed]",
      "text/plain": [
       "<Figure size 432x288 with 1 Axes>"
      ]
     },
     "metadata": {
      "needs_background": "light"
     },
     "output_type": "display_data"
    }
   ],
   "source": [
    "# Plotting the loss throughout the epochs \n",
    "plt.plot(history.history['loss'][1:])\n",
    "plt.show()"
   ]
  },
  {
   "cell_type": "code",
   "execution_count": 110,
   "id": "4493072e",
   "metadata": {},
   "outputs": [
    {
     "data": {
      "text/plain": [
       "2020    25.659\n",
       "2021    25.576\n",
       "2022    24.619\n",
       "2023    25.036\n",
       "2024    24.949\n",
       "2025    24.511\n",
       "Name: Close, dtype: float64"
      ]
     },
     "execution_count": 110,
     "metadata": {},
     "output_type": "execute_result"
    }
   ],
   "source": [
    "stock[2020:2026]['Close']"
   ]
  },
  {
   "cell_type": "code",
   "execution_count": 108,
   "id": "11e78d89",
   "metadata": {},
   "outputs": [],
   "source": [
    "def predict_value(days_before, scaler, model):\n",
    "    db = days_before.to_numpy()\n",
    "    db = db.reshape(len(db), 1)\n",
    "    scaled_db = scaler.transform(db)\n",
    "    scaled_predicted_price = model.predict(scaled_db)\n",
    "    predicted_price = scaler.inverse_transform(scaled_predicted_price)\n",
    "    return predicted_price"
   ]
  },
  {
   "cell_type": "code",
   "execution_count": 109,
   "id": "7bdd301c",
   "metadata": {
    "scrolled": true
   },
   "outputs": [
    {
     "name": "stdout",
     "output_type": "stream",
     "text": [
      "WARNING:tensorflow:Model was constructed with shape (None, 5, 1) for input KerasTensor(type_spec=TensorSpec(shape=(None, 5, 1), dtype=tf.float32, name='lstm_2_input'), name='lstm_2_input', description=\"created by layer 'lstm_2_input'\"), but it was called on an input with incompatible shape (None, 1, 1).\n"
     ]
    },
    {
     "data": {
      "text/plain": [
       "array([[47.92766 ],\n",
       "       [47.91221 ],\n",
       "       [47.75695 ],\n",
       "       [47.811604],\n",
       "       [47.795383]], dtype=float32)"
      ]
     },
     "execution_count": 109,
     "metadata": {},
     "output_type": "execute_result"
    }
   ],
   "source": [
    "predict_value(stock[2020:2025]['Close'], scaler, model)"
   ]
  }
 ],
 "metadata": {
  "kernelspec": {
   "display_name": "Python 3",
   "language": "python",
   "name": "python3"
  },
  "language_info": {
   "codemirror_mode": {
    "name": "ipython",
    "version": 3
   },
   "file_extension": ".py",
   "mimetype": "text/x-python",
   "name": "python",
   "nbconvert_exporter": "python",
   "pygments_lexer": "ipython3",
   "version": "3.8.8"
  }
 },
 "nbformat": 4,
 "nbformat_minor": 5
}
