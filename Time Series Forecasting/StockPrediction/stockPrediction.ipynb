{
 "cells": [
  {
   "cell_type": "code",
   "execution_count": 80,
   "id": "20a2fba3",
   "metadata": {},
   "outputs": [],
   "source": [
    "import pandas as pd\n",
    "import numpy as np\n",
    "import matplotlib.pyplot as plt\n",
    "import matplotlib.dates as mdates\n",
    "import tensorflow as tf\n",
    "from tensorflow.keras.models import Sequential\n",
    "from tensorflow.keras.layers import Dense\n",
    "from tensorflow.keras.layers import LSTM\n",
    "from sklearn.preprocessing import MinMaxScaler\n",
    "from sklearn.utils import shuffle\n"
   ]
  },
  {
   "cell_type": "code",
   "execution_count": 81,
   "id": "7f443b0d",
   "metadata": {},
   "outputs": [],
   "source": [
    "tf.random.set_seed(42)"
   ]
  },
  {
   "cell_type": "code",
   "execution_count": 85,
   "id": "107aef97",
   "metadata": {},
   "outputs": [],
   "source": [
    "import os\n",
    "directory = './Stocks'\n",
    "\n",
    "l = ['Date', 'Close']\n",
    "stock= pd.DataFrame(columns=l)\n",
    "for file in os.listdir(directory):\n",
    "    f = os.path.join(directory, file)\n",
    "    s = pd.read_csv(f)\n",
    "    s = s[['Date', 'Close']]\n",
    "    stock = pd.concat([stock, s])\n",
    "    "
   ]
  },
  {
   "cell_type": "code",
   "execution_count": 86,
   "id": "0e0ba6a6",
   "metadata": {
    "scrolled": true
   },
   "outputs": [
    {
     "data": {
      "text/html": [
       "<div>\n",
       "<style scoped>\n",
       "    .dataframe tbody tr th:only-of-type {\n",
       "        vertical-align: middle;\n",
       "    }\n",
       "\n",
       "    .dataframe tbody tr th {\n",
       "        vertical-align: top;\n",
       "    }\n",
       "\n",
       "    .dataframe thead th {\n",
       "        text-align: right;\n",
       "    }\n",
       "</style>\n",
       "<table border=\"1\" class=\"dataframe\">\n",
       "  <thead>\n",
       "    <tr style=\"text-align: right;\">\n",
       "      <th></th>\n",
       "      <th>Date</th>\n",
       "      <th>Close</th>\n",
       "    </tr>\n",
       "  </thead>\n",
       "  <tbody>\n",
       "    <tr>\n",
       "      <th>0</th>\n",
       "      <td>1999-11-18</td>\n",
       "      <td>29.702</td>\n",
       "    </tr>\n",
       "    <tr>\n",
       "      <th>1</th>\n",
       "      <td>1999-11-19</td>\n",
       "      <td>27.257</td>\n",
       "    </tr>\n",
       "    <tr>\n",
       "      <th>2</th>\n",
       "      <td>1999-11-22</td>\n",
       "      <td>29.702</td>\n",
       "    </tr>\n",
       "    <tr>\n",
       "      <th>3</th>\n",
       "      <td>1999-11-23</td>\n",
       "      <td>27.002</td>\n",
       "    </tr>\n",
       "    <tr>\n",
       "      <th>4</th>\n",
       "      <td>1999-11-24</td>\n",
       "      <td>27.717</td>\n",
       "    </tr>\n",
       "    <tr>\n",
       "      <th>...</th>\n",
       "      <td>...</td>\n",
       "      <td>...</td>\n",
       "    </tr>\n",
       "    <tr>\n",
       "      <th>8153</th>\n",
       "      <td>2017-11-06</td>\n",
       "      <td>123.820</td>\n",
       "    </tr>\n",
       "    <tr>\n",
       "      <th>8154</th>\n",
       "      <td>2017-11-07</td>\n",
       "      <td>123.400</td>\n",
       "    </tr>\n",
       "    <tr>\n",
       "      <th>8155</th>\n",
       "      <td>2017-11-08</td>\n",
       "      <td>123.830</td>\n",
       "    </tr>\n",
       "    <tr>\n",
       "      <th>8156</th>\n",
       "      <td>2017-11-09</td>\n",
       "      <td>122.400</td>\n",
       "    </tr>\n",
       "    <tr>\n",
       "      <th>8157</th>\n",
       "      <td>2017-11-10</td>\n",
       "      <td>123.110</td>\n",
       "    </tr>\n",
       "  </tbody>\n",
       "</table>\n",
       "<p>270479 rows × 2 columns</p>\n",
       "</div>"
      ],
      "text/plain": [
       "            Date    Close\n",
       "0     1999-11-18   29.702\n",
       "1     1999-11-19   27.257\n",
       "2     1999-11-22   29.702\n",
       "3     1999-11-23   27.002\n",
       "4     1999-11-24   27.717\n",
       "...          ...      ...\n",
       "8153  2017-11-06  123.820\n",
       "8154  2017-11-07  123.400\n",
       "8155  2017-11-08  123.830\n",
       "8156  2017-11-09  122.400\n",
       "8157  2017-11-10  123.110\n",
       "\n",
       "[270479 rows x 2 columns]"
      ]
     },
     "execution_count": 86,
     "metadata": {},
     "output_type": "execute_result"
    }
   ],
   "source": [
    "stock"
   ]
  },
  {
   "cell_type": "code",
   "execution_count": 87,
   "id": "0b6ffff4",
   "metadata": {},
   "outputs": [
    {
     "data": {
      "image/png": "[encoded data removed]",
      "text/plain": [
       "<Figure size 432x288 with 1 Axes>"
      ]
     },
     "metadata": {
      "needs_background": "light"
     },
     "output_type": "display_data"
    }
   ],
   "source": [
    "# Plotting the data\n",
    "import datetime as dt\n",
    "\n",
    "x = [dt.datetime.strptime(d,'%Y-%m-%d').date() for d in stock['Date']]\n",
    "\n",
    "plt.gca().xaxis.set_major_formatter(mdates.DateFormatter('%m/%d/%Y'))\n",
    "plt.gca().xaxis.set_major_locator(mdates.DayLocator(interval=1000))\n",
    "plt.plot(x, stock['Close'])\n",
    "plt.gcf().autofmt_xdate()\n"
   ]
  },
  {
   "cell_type": "code",
   "execution_count": 88,
   "id": "5a0de22a",
   "metadata": {},
   "outputs": [],
   "source": [
    "from sklearn.preprocessing import MinMaxScaler\n",
    "\n",
    "# making the dataset stationary\n",
    "def difference(dataset, interval=1):\n",
    "    diff = list()\n",
    "    for i in range(interval, len(dataset)):\n",
    "        value = dataset['Close'][i] - dataset['Close'][i - interval]\n",
    "        diff.append(value)\n",
    "    return pd.Series(diff)\n",
    "\n",
    "def inverse_difference(history, yhat, interval=1):\n",
    "    return yhat + history[-interval]\n",
    "\n",
    "\n",
    "\n",
    "# Transforming the dataset into -1 and +1 values for the tanh activation function\n",
    "def scale_dataset(X):\n",
    "    X = X.reshape(len(X), 1)\n",
    "    scaler = MinMaxScaler(feature_range=(-1, 1))\n",
    "    scaler = scaler.fit(X)\n",
    "    scaled_X = scaler.transform(X)\n",
    "    scaled_series = pd.Series(scaled_X[:, 0])\n",
    "    return scaled_series, scaler\n",
    "\n"
   ]
  },
  {
   "cell_type": "code",
   "execution_count": 90,
   "id": "cd2ca9c1",
   "metadata": {},
   "outputs": [],
   "source": [
    "def get_train_test(dataset, train_test_ratio, n_days):\n",
    "    n_train = int(len(dataset)*train_test_ratio)\n",
    "    col_names = []\n",
    "    for j in range(1, n_days+1):\n",
    "        col_names.append(f'Price_{j}_db')\n",
    "    col_names.append('Price_today')\n",
    "    l = []\n",
    "    for i in range(n_days, len(dataset)):\n",
    "        l.append([])\n",
    "        for j in range(1, n_days + 1):\n",
    "            l[i-n_days].append(dataset.iloc[i-j])\n",
    "        l[i-n_days].append(dataset.iloc[i])\n",
    "\n",
    "    X = pd.DataFrame(l, columns=col_names)\n",
    "    X = shuffle(X)\n",
    "    train = X[:n_train]\n",
    "    test = X[n_train:-1]\n",
    "    return train, test"
   ]
  },
  {
   "cell_type": "code",
   "execution_count": 91,
   "id": "88ca1420",
   "metadata": {},
   "outputs": [],
   "source": [
    "# diff_dataset = difference(stock)\n",
    "scaled_dataset, scaler = scale_dataset(stock['Close'].to_numpy())\n",
    "train, test = get_train_test(scaled_dataset, train_test_ratio=0.8, n_days=5)\n",
    "\n",
    "train_y = train['Price_today']\n",
    "train_X = train.drop(['Price_today'], axis=1)\n",
    "\n",
    "test_y = test['Price_today']\n",
    "test_X = train.drop(['Price_today'], axis=1)\n"
   ]
  },
  {
   "cell_type": "code",
   "execution_count": 92,
   "id": "16531c5b",
   "metadata": {},
   "outputs": [
    {
     "ename": "SyntaxError",
     "evalue": "invalid syntax (<ipython-input-92-1bb22f209593>, line 1)",
     "output_type": "error",
     "traceback": [
      "\u001b[1;36m  File \u001b[1;32m\"<ipython-input-92-1bb22f209593>\"\u001b[1;36m, line \u001b[1;32m1\u001b[0m\n\u001b[1;33m    Talvez minha LSTM esteja ao contrario,\u001b[0m\n\u001b[1;37m           ^\u001b[0m\n\u001b[1;31mSyntaxError\u001b[0m\u001b[1;31m:\u001b[0m invalid syntax\n"
     ]
    }
   ],
   "source": [
    "Talvez minha LSTM esteja ao contrario, \n",
    "\n",
    "Eu coloco 1 dia antes -> 2 dias antes -> 3 dias antes -> 4 -> 5\n",
    "Quando talvez fosse 5 ->4 -> 3 -> 2 -> 1 (com o mais recente por ultimo na LSTM)"
   ]
  },
  {
   "cell_type": "code",
   "execution_count": 94,
   "id": "577e4eed",
   "metadata": {
    "scrolled": true
   },
   "outputs": [],
   "source": [
    "def fit_lstm(train_X, train_y, batch_size, n_epochs, n_neurons, dropout=0):\n",
    "    train_y = train_y.to_numpy()\n",
    "    train_X = train_X.to_numpy()\n",
    "    train_X = train_X.reshape(train_X.shape[0], train_X.shape[1], 1)\n",
    "    model = Sequential()\n",
    "    model.add(LSTM(n_neurons, activation='relu', input_shape=(train_X.shape[1], 1), dropout=dropout))\n",
    "    model.add(Dense(1))\n",
    "    model.compile(optimizer='adam', loss='mse')\n",
    "    history = model.fit(train_X, train_y, epochs=n_epochs, batch_size=batch_size, verbose=1, shuffle=False)\n",
    "\n",
    "    return model, history"
   ]
  },
  {
   "cell_type": "code",
   "execution_count": null,
   "id": "b47eeccf",
   "metadata": {},
   "outputs": [
    {
     "name": "stdout",
     "output_type": "stream",
     "text": [
      "Epoch 1/10\n",
      "216383/216383 [==============================] - 456s 2ms/step - loss: 5.3874e-04\n",
      "Epoch 2/10\n",
      "216383/216383 [==============================] - 458s 2ms/step - loss: 1.8560e-04\n",
      "Epoch 3/10\n",
      "216383/216383 [==============================] - 429s 2ms/step - loss: 1.5079e-04\n",
      "Epoch 4/10\n",
      "216383/216383 [==============================] - 429s 2ms/step - loss: 1.4673e-04\n",
      "Epoch 5/10\n",
      "216383/216383 [==============================] - 476s 2ms/step - loss: 1.5579e-04\n",
      "Epoch 6/10\n",
      "145279/216383 [===================>..........] - ETA: 2:31 - loss: 1.5109e-04"
     ]
    }
   ],
   "source": [
    "model, history = fit_lstm(train_X, train_y, batch_size=1, n_epochs=10, n_neurons=20, dropout=0.2)"
   ]
  },
  {
   "cell_type": "code",
   "execution_count": null,
   "id": "9a511089",
   "metadata": {
    "scrolled": false
   },
   "outputs": [],
   "source": [
    "# Plotting the loss throughout the epochs \n",
    "plt.plot(history.history['loss'][1:])\n",
    "plt.show()"
   ]
  },
  {
   "cell_type": "code",
   "execution_count": null,
   "id": "fcb33205",
   "metadata": {},
   "outputs": [],
   "source": [
    "def predict_value(days_before, scaler, model):\n",
    "    db = days_before.to_numpy()\n",
    "    db = db.reshape(len(db), 1)\n",
    "    scaled_db = scaler.transform(db)\n",
    "    scaled_predicted_price = model.predict(np.array([scaled_db]))\n",
    "    predicted_price = scaler.inverse_transform(scaled_predicted_price)\n",
    "    return predicted_price"
   ]
  },
  {
   "cell_type": "code",
   "execution_count": null,
   "id": "568f44ee",
   "metadata": {
    "scrolled": false
   },
   "outputs": [],
   "source": [
    "def plot_predicted_actual(X, y, scaler, model):\n",
    "    \n",
    "\n",
    "    #plt.plot(x) \n",
    "    x = range(np.shape(X)[0])\n",
    "    \n",
    "    #scaled predicted price\n",
    "    spp = model.predict(X)\n",
    "    upp = scaler.inverse_transform(spp)\n",
    "    # unscaled y\n",
    "    uy = scaler.inverse_transform(y.to_numpy().reshape(-1,1))\n",
    "    \n",
    "    plt.figure(figsize=(20,10))\n",
    "    plt.plot(x[:100], uy[:100], color='red', label='Real price')\n",
    "    plt.plot(upp[:100], color='blue', label='Predicted price')\n",
    "    plt.xlabel('Instance')\n",
    "    plt.ylabel('Price')\n",
    "    plt.legend()\n",
    "    plt.show()\n",
    "    return \n",
    "\n",
    "plot_predicted_actual(train_X, train_y, scaler, model)"
   ]
  },
  {
   "cell_type": "code",
   "execution_count": null,
   "id": "63f5aa4d",
   "metadata": {},
   "outputs": [],
   "source": [
    "stock.iloc[2025:2030]['Close']"
   ]
  },
  {
   "cell_type": "code",
   "execution_count": null,
   "id": "056e1486",
   "metadata": {
    "scrolled": true
   },
   "outputs": [],
   "source": [
    "stock.iloc[20030]['Close']"
   ]
  },
  {
   "cell_type": "code",
   "execution_count": null,
   "id": "8882ec58",
   "metadata": {
    "scrolled": true
   },
   "outputs": [],
   "source": [
    "predict_value(stock[20025:20030]['Close'], scaler, model)"
   ]
  },
  {
   "cell_type": "code",
   "execution_count": null,
   "id": "7e781d67",
   "metadata": {
    "scrolled": true
   },
   "outputs": [],
   "source": [
    "plot_predicted_actual(test_X, test_y, scaler, model)"
   ]
  }
 ],
 "metadata": {
  "kernelspec": {
   "display_name": "Python 3",
   "language": "python",
   "name": "python3"
  },
  "language_info": {
   "codemirror_mode": {
    "name": "ipython",
    "version": 3
   },
   "file_extension": ".py",
   "mimetype": "text/x-python",
   "name": "python",
   "nbconvert_exporter": "python",
   "pygments_lexer": "ipython3",
   "version": "3.8.8"
  }
 },
 "nbformat": 4,
 "nbformat_minor": 5
}
