{
 "cells": [
  {
   "cell_type": "code",
   "execution_count": 199,
   "id": "20a2fba3",
   "metadata": {},
   "outputs": [],
   "source": [
    "import pandas as pd\n",
    "import numpy as np\n",
    "import matplotlib.pyplot as plt\n",
    "import matplotlib.dates as mdates\n",
    "import tensorflow as tf\n",
    "from tensorflow.keras.models import Sequential\n",
    "from tensorflow.keras.layers import Dense\n",
    "from tensorflow.keras.layers import LSTM\n",
    "from sklearn.preprocessing import MinMaxScaler\n",
    "from sklearn.utils import shuffle\n",
    "from sklearn.model_selection import StratifiedKFold\n",
    "from sklearn.model_selection import cross_val_score\n",
    "import datetime as dt\n",
    "import os\n",
    "\n",
    "# setting seed for reproducibility\n",
    "tf.random.set_seed(42)"
   ]
  },
  {
   "cell_type": "code",
   "execution_count": 200,
   "id": "107aef97",
   "metadata": {},
   "outputs": [],
   "source": [
    "# getting all the stocks from the files\n",
    "\n",
    "directory = './Stocks'\n",
    "\n",
    "l = ['Date', 'Close']\n",
    "stocks= pd.DataFrame(columns=l)\n",
    "for file in os.listdir(directory):\n",
    "    f = os.path.join(directory, file)\n",
    "    s = pd.read_csv(f)\n",
    "    s = s[['Date', 'Close']]\n",
    "    s['Company_name'] = file\n",
    "    stocks = pd.concat([stocks, s])\n",
    "    "
   ]
  },
  {
   "cell_type": "code",
   "execution_count": 201,
   "id": "5a0de22a",
   "metadata": {},
   "outputs": [],
   "source": [
    "from sklearn.preprocessing import MinMaxScaler\n",
    "\n",
    "# making the dataset stationary\n",
    "def difference(dataset, interval=1):\n",
    "    diff = list()\n",
    "    for i in range(interval, len(dataset)):\n",
    "        value = dataset['Close'][i] - dataset['Close'][i - interval]\n",
    "        diff.append(value)\n",
    "    return pd.Series(diff)\n",
    "\n",
    "def inverse_difference(history, yhat, interval=1):\n",
    "    return yhat + history[-interval]\n",
    "\n",
    "\n",
    "def scale_dataset(X):\n",
    "    \"\"\"\n",
    "    A function to scale the pandas Series into tanh range (-1 and 1)\n",
    "    Returns: The scaled Series and the scaler \n",
    "    \"\"\"\n",
    "    X = X.reshape(len(X), 1)\n",
    "    scaler = MinMaxScaler(feature_range=(-1, 1))\n",
    "    scaler = scaler.fit(X)\n",
    "    scaled_X = scaler.transform(X)\n",
    "    scaled_series = pd.Series(scaled_X[:, 0])\n",
    "    return scaled_series, scaler\n",
    "\n"
   ]
  },
  {
   "cell_type": "code",
   "execution_count": 202,
   "id": "cd2ca9c1",
   "metadata": {},
   "outputs": [],
   "source": [
    "def get_train_test(dataset, company_names, train_test_ratio: float, n_days: int):\n",
    "    \"\"\"\n",
    "    A function to split the dataset into training and test sets.\n",
    "    Creates a table with the previous n_days stock prices for the same company and the current price\n",
    "    \n",
    "    Parameters: \n",
    "    -dataset: A pandas Series that contains the stock price for a day\n",
    "    -company_names: A Pandas Series that contains the companies names to verify if it belongs to the same company\n",
    "    -train_test_ratio: The ratio of train to test\n",
    "    -n_days: How many days before the instance day are to be included in the table\n",
    "    \n",
    "    Return: training and test dataset\n",
    "    \"\"\"\n",
    "    n_train = int(len(dataset)*train_test_ratio)\n",
    "    col_names = []\n",
    "    for j in range(n_days, 0, -1):\n",
    "        col_names.append(f'Price_{j}_db')\n",
    "    col_names.append('Price_today')\n",
    "    l = []\n",
    "    \n",
    "    for i in range(n_days, len(dataset)):\n",
    "        \n",
    "        l.append([])\n",
    "        # if it's not from the same company\n",
    "        if company_names.iloc[i] is not company_names.iloc[i-n_days]:\n",
    "            continue\n",
    "        \n",
    "        for j in range(n_days, 0, -1):\n",
    "            l[i-n_days].append(dataset.iloc[i-j])\n",
    "        l[i-n_days].append(dataset.iloc[i])\n",
    "\n",
    "    X = pd.DataFrame(l, columns=col_names)\n",
    "    # taking care of all the instances that have NaN\n",
    "    X = X.dropna()\n",
    "    #X = shuffle(X)\n",
    "    train = X[:n_train]\n",
    "    test = X[n_train:-1]\n",
    "    return train, test"
   ]
  },
  {
   "cell_type": "code",
   "execution_count": 203,
   "id": "88ca1420",
   "metadata": {},
   "outputs": [],
   "source": [
    "# diff_dataset = difference(stocks)\n",
    "scaled_dataset, scaler = scale_dataset(stocks['Close'].to_numpy())\n",
    "train, test = get_train_test(scaled_dataset, stocks['Company_name'], train_test_ratio=0.8, n_days=5)\n",
    "\n",
    "train_y = train['Price_today']\n",
    "train_X = train.drop(['Price_today'], axis=1)\n",
    "\n",
    "test_y = test['Price_today']\n",
    "test_X = train.drop(['Price_today'], axis=1)\n"
   ]
  },
  {
   "cell_type": "code",
   "execution_count": 204,
   "id": "577e4eed",
   "metadata": {
    "scrolled": true
   },
   "outputs": [],
   "source": [
    "def fit_lstm(train_X, train_y, batch_size, n_epochs, n_neurons, dropout=0):\n",
    "    \"\"\"\n",
    "    A function to fit our model into a keras LSTM\n",
    "    Parameters:\n",
    "    -n_epochs: How many epochs to train the model\n",
    "    -n_neurons: How many neurons to include in the network\n",
    "    -dropout: The dropout rate \n",
    "\n",
    "    Returns: The fitted model and the model history\n",
    "    \"\"\"\n",
    "    train_y = train_y.to_numpy()\n",
    "    train_X = train_X.to_numpy()\n",
    "    train_X = train_X.reshape(train_X.shape[0], train_X.shape[1], 1)\n",
    "    model = Sequential()\n",
    "    model.add(LSTM(n_neurons, activation='relu', input_shape=(train_X.shape[1], 1), dropout=dropout))\n",
    "    model.add(Dense(1))\n",
    "    model.compile(optimizer='adam', loss='mse')\n",
    "    history = model.fit(train_X, train_y, epochs=n_epochs, batch_size=batch_size, verbose=1, shuffle=False)\n",
    "\n",
    "    return model, history"
   ]
  },
  {
   "cell_type": "code",
   "execution_count": 224,
   "id": "8130a7a6",
   "metadata": {
    "scrolled": false
   },
   "outputs": [
    {
     "name": "stdout",
     "output_type": "stream",
     "text": [
      "Epoch 1/100\n",
      "1691/1691 [==============================] - 9s 4ms/step - loss: 0.0190\n",
      "Epoch 2/100\n",
      "1691/1691 [==============================] - 7s 4ms/step - loss: 0.0025\n",
      "Epoch 3/100\n",
      "1691/1691 [==============================] - 7s 4ms/step - loss: 0.0015\n",
      "Epoch 4/100\n",
      "1691/1691 [==============================] - 8s 5ms/step - loss: 0.0015\n",
      "Epoch 5/100\n",
      "1691/1691 [==============================] - 8s 5ms/step - loss: 0.0012\n",
      "Epoch 6/100\n",
      "1691/1691 [==============================] - 7s 4ms/step - loss: 0.0012\n",
      "Epoch 7/100\n",
      "1691/1691 [==============================] - 7s 4ms/step - loss: 9.0951e-04\n",
      "Epoch 8/100\n",
      "1691/1691 [==============================] - 7s 4ms/step - loss: 7.9011e-04\n",
      "Epoch 9/100\n",
      "1691/1691 [==============================] - 7s 4ms/step - loss: 7.4238e-04\n",
      "Epoch 10/100\n",
      "1691/1691 [==============================] - 7s 4ms/step - loss: 5.7813e-04\n",
      "Epoch 11/100\n",
      "1691/1691 [==============================] - 7s 4ms/step - loss: 5.6644e-04\n",
      "Epoch 12/100\n",
      "1691/1691 [==============================] - 7s 4ms/step - loss: 4.2368e-04\n",
      "Epoch 13/100\n",
      "1691/1691 [==============================] - 7s 4ms/step - loss: 4.0723e-04\n",
      "Epoch 14/100\n",
      "1691/1691 [==============================] - 7s 4ms/step - loss: 3.6661e-04\n",
      "Epoch 15/100\n",
      "1691/1691 [==============================] - 7s 4ms/step - loss: 2.7856e-04\n",
      "Epoch 16/100\n",
      "1691/1691 [==============================] - 7s 4ms/step - loss: 2.3973e-04\n",
      "Epoch 17/100\n",
      "1691/1691 [==============================] - 8s 5ms/step - loss: 2.2139e-04\n",
      "Epoch 18/100\n",
      "1691/1691 [==============================] - 7s 4ms/step - loss: 1.8338e-04\n",
      "Epoch 19/100\n",
      "1691/1691 [==============================] - 7s 4ms/step - loss: 2.0391e-04\n",
      "Epoch 20/100\n",
      "1691/1691 [==============================] - 7s 4ms/step - loss: 1.4332e-04\n",
      "Epoch 21/100\n",
      "1691/1691 [==============================] - 7s 4ms/step - loss: 1.5838e-04\n",
      "Epoch 22/100\n",
      "1691/1691 [==============================] - 7s 4ms/step - loss: 1.7319e-04\n",
      "Epoch 23/100\n",
      "1691/1691 [==============================] - 7s 4ms/step - loss: 1.3446e-04\n",
      "Epoch 24/100\n",
      "1691/1691 [==============================] - 7s 4ms/step - loss: 1.3143e-04\n",
      "Epoch 25/100\n",
      "1691/1691 [==============================] - 7s 4ms/step - loss: 9.1678e-05\n",
      "Epoch 26/100\n",
      "1691/1691 [==============================] - 7s 4ms/step - loss: 1.2165e-04\n",
      "Epoch 27/100\n",
      "1691/1691 [==============================] - 7s 4ms/step - loss: 1.4413e-04\n",
      "Epoch 28/100\n",
      "1691/1691 [==============================] - 7s 4ms/step - loss: 8.4135e-05\n",
      "Epoch 29/100\n",
      "1691/1691 [==============================] - 7s 4ms/step - loss: 1.1851e-04\n",
      "Epoch 30/100\n",
      "1691/1691 [==============================] - 7s 4ms/step - loss: 9.3035e-05\n",
      "Epoch 31/100\n",
      "1691/1691 [==============================] - 7s 4ms/step - loss: 8.7184e-05\n",
      "Epoch 32/100\n",
      "1691/1691 [==============================] - 7s 4ms/step - loss: 8.6589e-05\n",
      "Epoch 33/100\n",
      "1691/1691 [==============================] - 7s 4ms/step - loss: 7.6024e-05\n",
      "Epoch 34/100\n",
      "1691/1691 [==============================] - 7s 4ms/step - loss: 1.0254e-04\n",
      "Epoch 35/100\n",
      "1691/1691 [==============================] - 7s 4ms/step - loss: 9.4560e-05\n",
      "Epoch 36/100\n",
      "1691/1691 [==============================] - 7s 4ms/step - loss: 8.2574e-05\n",
      "Epoch 37/100\n",
      "1691/1691 [==============================] - 7s 4ms/step - loss: 7.8064e-05\n",
      "Epoch 38/100\n",
      "1691/1691 [==============================] - 7s 4ms/step - loss: 6.0686e-05\n",
      "Epoch 39/100\n",
      "1691/1691 [==============================] - 7s 4ms/step - loss: 8.3847e-05\n",
      "Epoch 40/100\n",
      "1691/1691 [==============================] - 7s 4ms/step - loss: 5.6916e-05\n",
      "Epoch 41/100\n",
      "1691/1691 [==============================] - 7s 4ms/step - loss: 6.5027e-05\n",
      "Epoch 42/100\n",
      "1691/1691 [==============================] - 7s 4ms/step - loss: 7.8211e-05\n",
      "Epoch 43/100\n",
      "1691/1691 [==============================] - 7s 4ms/step - loss: 7.7475e-05\n",
      "Epoch 44/100\n",
      "1691/1691 [==============================] - 7s 4ms/step - loss: 5.0828e-05\n",
      "Epoch 45/100\n",
      "1691/1691 [==============================] - 7s 4ms/step - loss: 6.7905e-05\n",
      "Epoch 46/100\n",
      "1691/1691 [==============================] - 7s 4ms/step - loss: 7.5666e-05\n",
      "Epoch 47/100\n",
      "1691/1691 [==============================] - 7s 4ms/step - loss: 7.7727e-05\n",
      "Epoch 48/100\n",
      "1691/1691 [==============================] - 7s 4ms/step - loss: 6.3855e-05\n",
      "Epoch 49/100\n",
      "1691/1691 [==============================] - 7s 4ms/step - loss: 5.6066e-05\n",
      "Epoch 50/100\n",
      "1691/1691 [==============================] - 7s 4ms/step - loss: 5.2311e-05\n",
      "Epoch 51/100\n",
      "1691/1691 [==============================] - 7s 4ms/step - loss: 5.1880e-05\n",
      "Epoch 52/100\n",
      "1691/1691 [==============================] - 7s 4ms/step - loss: 5.4291e-05\n",
      "Epoch 53/100\n",
      "1691/1691 [==============================] - 7s 4ms/step - loss: 4.5187e-05\n",
      "Epoch 54/100\n",
      "1691/1691 [==============================] - 7s 4ms/step - loss: 6.5404e-05\n",
      "Epoch 55/100\n",
      "1691/1691 [==============================] - 7s 4ms/step - loss: 4.6139e-05\n",
      "Epoch 56/100\n",
      "1691/1691 [==============================] - 7s 4ms/step - loss: 4.4545e-05\n",
      "Epoch 57/100\n",
      "1691/1691 [==============================] - 7s 4ms/step - loss: 7.6146e-05\n",
      "Epoch 58/100\n",
      "1691/1691 [==============================] - 7s 4ms/step - loss: 5.3455e-05\n",
      "Epoch 59/100\n",
      "1691/1691 [==============================] - 7s 4ms/step - loss: 5.6245e-05\n",
      "Epoch 60/100\n",
      "1691/1691 [==============================] - 7s 4ms/step - loss: 4.7184e-05\n",
      "Epoch 61/100\n",
      "1691/1691 [==============================] - 7s 4ms/step - loss: 6.5192e-05\n",
      "Epoch 62/100\n",
      "1691/1691 [==============================] - 7s 4ms/step - loss: 3.7434e-05\n",
      "Epoch 63/100\n",
      "1691/1691 [==============================] - 7s 4ms/step - loss: 5.2300e-05\n",
      "Epoch 64/100\n",
      "1691/1691 [==============================] - 7s 4ms/step - loss: 6.5453e-05\n",
      "Epoch 65/100\n",
      "1691/1691 [==============================] - 7s 4ms/step - loss: 4.9893e-05\n",
      "Epoch 66/100\n",
      "1691/1691 [==============================] - 7s 4ms/step - loss: 9.1757e-05\n",
      "Epoch 67/100\n",
      "1691/1691 [==============================] - 7s 4ms/step - loss: 5.4208e-05\n",
      "Epoch 68/100\n",
      "1691/1691 [==============================] - 7s 4ms/step - loss: 3.6988e-05\n",
      "Epoch 69/100\n",
      "1691/1691 [==============================] - 7s 4ms/step - loss: 6.6287e-05\n",
      "Epoch 70/100\n",
      "1691/1691 [==============================] - 7s 4ms/step - loss: 6.4676e-05\n",
      "Epoch 71/100\n",
      "1691/1691 [==============================] - 7s 4ms/step - loss: 3.9019e-05\n",
      "Epoch 72/100\n",
      "1691/1691 [==============================] - 7s 4ms/step - loss: 4.1722e-05\n",
      "Epoch 73/100\n",
      "1691/1691 [==============================] - 7s 4ms/step - loss: 7.4892e-05\n",
      "Epoch 74/100\n",
      "1691/1691 [==============================] - 7s 4ms/step - loss: 8.7651e-05\n",
      "Epoch 75/100\n",
      "1691/1691 [==============================] - 7s 4ms/step - loss: 5.9243e-05\n",
      "Epoch 76/100\n",
      "1691/1691 [==============================] - 7s 4ms/step - loss: 4.9901e-05\n",
      "Epoch 77/100\n",
      "1691/1691 [==============================] - 7s 4ms/step - loss: 6.4607e-05\n",
      "Epoch 78/100\n",
      "1691/1691 [==============================] - 7s 4ms/step - loss: 5.1787e-05\n",
      "Epoch 79/100\n",
      "1691/1691 [==============================] - 7s 4ms/step - loss: 4.9848e-05\n",
      "Epoch 80/100\n",
      "1691/1691 [==============================] - 7s 4ms/step - loss: 4.8406e-05\n",
      "Epoch 81/100\n",
      "1691/1691 [==============================] - 7s 4ms/step - loss: 7.5928e-05\n",
      "Epoch 82/100\n",
      "1691/1691 [==============================] - 7s 4ms/step - loss: 4.4175e-05\n",
      "Epoch 83/100\n",
      "1691/1691 [==============================] - 7s 4ms/step - loss: 5.7162e-05\n",
      "Epoch 84/100\n",
      "1691/1691 [==============================] - 7s 4ms/step - loss: 7.6180e-05\n",
      "Epoch 85/100\n",
      "1691/1691 [==============================] - 7s 4ms/step - loss: 5.2883e-05\n",
      "Epoch 86/100\n",
      "1691/1691 [==============================] - 7s 4ms/step - loss: 3.9558e-05\n",
      "Epoch 87/100\n",
      "1691/1691 [==============================] - 7s 4ms/step - loss: 8.7143e-05\n",
      "Epoch 88/100\n",
      "1691/1691 [==============================] - 7s 4ms/step - loss: 6.4471e-05\n",
      "Epoch 89/100\n",
      "1691/1691 [==============================] - 7s 4ms/step - loss: 4.2606e-05\n",
      "Epoch 90/100\n",
      "1691/1691 [==============================] - 7s 4ms/step - loss: 4.0086e-05\n",
      "Epoch 91/100\n",
      "1691/1691 [==============================] - 7s 4ms/step - loss: 4.7394e-05\n",
      "Epoch 92/100\n",
      "1691/1691 [==============================] - 7s 4ms/step - loss: 3.4339e-05\n",
      "Epoch 93/100\n"
     ]
    },
    {
     "name": "stdout",
     "output_type": "stream",
     "text": [
      "1691/1691 [==============================] - 7s 4ms/step - loss: 6.5830e-05\n",
      "Epoch 94/100\n",
      "1691/1691 [==============================] - 7s 4ms/step - loss: 5.0736e-05\n",
      "Epoch 95/100\n",
      "1691/1691 [==============================] - 7s 4ms/step - loss: 4.5714e-05\n",
      "Epoch 96/100\n",
      "1691/1691 [==============================] - 7s 4ms/step - loss: 4.1320e-05\n",
      "Epoch 97/100\n",
      "1691/1691 [==============================] - 7s 4ms/step - loss: 4.9474e-05\n",
      "Epoch 98/100\n",
      "1691/1691 [==============================] - 7s 4ms/step - loss: 5.9854e-05\n",
      "Epoch 99/100\n",
      "1691/1691 [==============================] - 7s 4ms/step - loss: 5.3211e-05\n",
      "Epoch 100/100\n",
      "1691/1691 [==============================] - 7s 4ms/step - loss: 4.0281e-05\n"
     ]
    }
   ],
   "source": [
    "model, history = fit_lstm(train_X, train_y, batch_size=128, n_epochs=100, n_neurons=20, dropout=0.2)"
   ]
  },
  {
   "cell_type": "code",
   "execution_count": 232,
   "id": "9a511089",
   "metadata": {
    "scrolled": false
   },
   "outputs": [
    {
     "data": {
      "image/png": "[encoded data removed]",
      "text/plain": [
       "<Figure size 432x288 with 1 Axes>"
      ]
     },
     "metadata": {
      "needs_background": "light"
     },
     "output_type": "display_data"
    }
   ],
   "source": [
    "# Plotting the loss throughout the epochs \n",
    "plt.plot(history.history['loss'])\n",
    "plt.show()"
   ]
  },
  {
   "cell_type": "code",
   "execution_count": 208,
   "id": "fcb33205",
   "metadata": {},
   "outputs": [],
   "source": [
    "def predict_value(days_before, scaler, model):\n",
    "    db = days_before.to_numpy()\n",
    "    db = db.reshape(len(db), 1)\n",
    "    scaled_db = scaler.transform(db)\n",
    "    scaled_predicted_price = model.predict(np.array([scaled_db]))\n",
    "    predicted_price = scaler.inverse_transform(scaled_predicted_price)\n",
    "    return predicted_price"
   ]
  },
  {
   "cell_type": "code",
   "execution_count": 233,
   "id": "568f44ee",
   "metadata": {
    "scrolled": true
   },
   "outputs": [
    {
     "data": {
      "image/png": "[encoded data removed]",
      "text/plain": [
       "<Figure size 1440x720 with 1 Axes>"
      ]
     },
     "metadata": {
      "needs_background": "light"
     },
     "output_type": "display_data"
    }
   ],
   "source": [
    "def plot_predicted_actual(X, y, scaler, model, n_points=1000):\n",
    "    \n",
    "\n",
    "    #plt.plot(x) \n",
    "    x = range(np.shape(X)[0])\n",
    "    \n",
    "    #scaled predicted price\n",
    "    spp = model.predict(X)\n",
    "    upp = scaler.inverse_transform(spp)\n",
    "    # unscaled y\n",
    "    uy = scaler.inverse_transform(y.to_numpy().reshape(-1,1))\n",
    "    \n",
    "    plt.figure(figsize=(20,10))\n",
    "    plt.plot(x[:n_points], uy[:n_points], color='red', label='Real price')\n",
    "    plt.plot(upp[:n_points], color='blue', label='Predicted price')\n",
    "    plt.xlabel('Instance')\n",
    "    plt.ylabel('Price')\n",
    "    plt.legend()\n",
    "    plt.show()\n",
    "    return \n",
    "\n",
    "plot_predicted_actual(train_X, train_y, scaler, model)"
   ]
  },
  {
   "cell_type": "code",
   "execution_count": 210,
   "id": "d8995471",
   "metadata": {
    "scrolled": true
   },
   "outputs": [
    {
     "data": {
      "text/plain": [
       "2925    25.59\n",
       "2926    26.20\n",
       "2927    26.63\n",
       "2928    26.81\n",
       "2929    26.61\n",
       "Name: Close, dtype: float64"
      ]
     },
     "execution_count": 210,
     "metadata": {},
     "output_type": "execute_result"
    }
   ],
   "source": [
    "stocks.iloc[20025:20030]['Close']"
   ]
  },
  {
   "cell_type": "code",
   "execution_count": 211,
   "id": "31453ce7",
   "metadata": {
    "scrolled": true
   },
   "outputs": [
    {
     "data": {
      "text/plain": [
       "26.42"
      ]
     },
     "execution_count": 211,
     "metadata": {},
     "output_type": "execute_result"
    }
   ],
   "source": [
    "stocks.iloc[20030]['Close']"
   ]
  },
  {
   "cell_type": "code",
   "execution_count": 212,
   "id": "27e97c2e",
   "metadata": {
    "scrolled": true
   },
   "outputs": [
    {
     "data": {
      "text/plain": [
       "array([[944.55853]], dtype=float32)"
      ]
     },
     "execution_count": 212,
     "metadata": {},
     "output_type": "execute_result"
    }
   ],
   "source": [
    "predict_value(stocks[20025:20030]['Close'], scaler, model)"
   ]
  },
  {
   "cell_type": "code",
   "execution_count": 213,
   "id": "6ca0e60a",
   "metadata": {
    "scrolled": true
   },
   "outputs": [
    {
     "data": {
      "image/png": "[encoded data removed]",
      "text/plain": [
       "<Figure size 1440x720 with 1 Axes>"
      ]
     },
     "metadata": {
      "needs_background": "light"
     },
     "output_type": "display_data"
    }
   ],
   "source": [
    "plot_predicted_actual(test_X, test_y, scaler, model)"
   ]
  }
 ],
 "metadata": {
  "kernelspec": {
   "display_name": "Python 3",
   "language": "python",
   "name": "python3"
  },
  "language_info": {
   "codemirror_mode": {
    "name": "ipython",
    "version": 3
   },
   "file_extension": ".py",
   "mimetype": "text/x-python",
   "name": "python",
   "nbconvert_exporter": "python",
   "pygments_lexer": "ipython3",
   "version": "3.8.8"
  }
 },
 "nbformat": 4,
 "nbformat_minor": 5
}
