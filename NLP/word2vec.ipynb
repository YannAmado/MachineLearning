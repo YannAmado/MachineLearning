{
 "cells": [
  {
   "cell_type": "code",
   "execution_count": 2,
   "id": "f98bdc96",
   "metadata": {
    "scrolled": false
   },
   "outputs": [],
   "source": [
    "import pandas as pd\n",
    "import re\n",
    "import numpy as np\n",
    "import NegativeSampling as ns\n",
    "\n",
    "# dataset imported from\n",
    "twitters = pd.read_csv(r'C:\\Users\\Yann\\Desktop\\gotTwitter.csv', usecols=['text'])\n",
    "twitters\n",
    "\n",
    "vocabSize = 20000"
   ]
  },
  {
   "cell_type": "code",
   "execution_count": 13,
   "id": "65f18631",
   "metadata": {},
   "outputs": [],
   "source": [
    "def preprocess(texts, vocabSize=vocabSize):\n",
    "    ppt = []\n",
    "\n",
    "    for text in texts:\n",
    "        # removing everything after @\n",
    "        filteredText = re.sub(r'@\\S+', \"\", text);\n",
    "        # removing URLS\n",
    "        filteredText = re.sub(r'http\\S+', '', filteredText)\n",
    "        filteredText = re.sub(r'http\\S+', '', filteredText)\n",
    "        # removing everything that is not a letter or space\n",
    "        filteredText = re.sub(r'[^\\w ]', u'', filteredText)\n",
    "        filteredText = re.sub(r'[^a-zA-Z\\s]', u'', filteredText, flags=re.UNICODE)\n",
    "        # removing trailing whitespaces and \\n\n",
    "        filteredText = re.sub(' +', ' ', filteredText)\n",
    "        filteredText = filteredText.strip()\n",
    "        filteredText = filteredText.replace('\\n', '')\n",
    "        # lower casing\n",
    "        ppt.append(filteredText.lower())\n",
    "\n",
    "    # keeping only the first vocabSize words of the text\n",
    "    # first finding the vocabSize first elements\n",
    "    t = ' '.join(ppt)\n",
    "    t = t.split(' ')\n",
    "    d = dict()\n",
    "    for word in t:\n",
    "        d[word] = 0\n",
    "    for word in t:\n",
    "        d[word] += 1\n",
    "    wordCount = dict(sorted(d.items(), key=lambda item: item[1], reverse=True))\n",
    "    # making a dictionary of words to keep or to discard (discarded words will be 0 in the dic)\n",
    "    wordsKept = dict()\n",
    "    i = 0\n",
    "    for word in wordCount:\n",
    "        if i < vocabSize:\n",
    "            wordsKept[word] = word\n",
    "        else:\n",
    "            wordsKept[word] = '0'\n",
    "        i += 1\n",
    "    vocabText = []\n",
    "    for sentence in ppt:\n",
    "        t = sentence.split(' ')\n",
    "        s = []\n",
    "        for word in t:\n",
    "            s.append(wordsKept[word])\n",
    "        vocabText.append(' '.join(s))\n",
    "    return vocabText, wordCount"
   ]
  },
  {
   "cell_type": "code",
   "execution_count": 15,
   "id": "63cd0e22",
   "metadata": {},
   "outputs": [],
   "source": [
    "def words2int(texts):\n",
    "    t = ' '.join(texts)\n",
    "    t = t.split(' ')\n",
    "    d = dict([(y,x+1) for x,y in enumerate(sorted(set(t)))])\n",
    "    intTexts = []\n",
    "    for sentence in texts:\n",
    "        t = []\n",
    "        for word in sentence:\n",
    "            if word == ' ':\n",
    "                continue\n",
    "            t.append(d[word])\n",
    "        intTexts.append(t)\n",
    "    dS = {v: k for k, v in d.items()}\n",
    "    return intTexts, d, dS "
   ]
  },
  {
   "cell_type": "code",
   "execution_count": 17,
   "id": "8535cde3",
   "metadata": {
    "scrolled": true
   },
   "outputs": [],
   "source": [
    "ppt, wordCount = preprocess(twitters['text'])"
   ]
  },
  {
   "cell_type": "code",
   "execution_count": 19,
   "id": "42d82227",
   "metadata": {},
   "outputs": [
    {
     "data": {
      "text/plain": [
       "['on game of thrones x breakdown night king symbol explained',\n",
       " 'on ups and downs from game of thrones',\n",
       " 'liked on youtube ups and downs from game of thrones',\n",
       " 'liked on youtube game of thrones x breakdown night king symbol explained',\n",
       " 'unpopular opinion game of thrones edition',\n",
       " 'reddit is bursting with game of thrones theories about bran stark sheknows',\n",
       " 'reddit is bursting with game of thrones theories about bran stark sheknows',\n",
       " 'game of thrones season reddit theories that will rock your world elite daily',\n",
       " 'what reddits game of thrones fans really thought of the season premiere usa today',\n",
       " 'game of thrones star john bradley explains spoiler from the s premiere comics 0',\n",
       " 'game of thrones star john bradley explains spoiler from the s premiere comics 0 0',\n",
       " 'dark fantasy comic 0 arrives in time for game of thrones withdrawal comics 0 0',\n",
       " 'how game of thrones should end',\n",
       " 'game of thrones cast works in call center for kimmels game of phones',\n",
       " 'how do you think the show is going to end',\n",
       " 'how do you think the show is going to end',\n",
       " 'correctly guess ending of game of thrones and you could win vacation in croatia',\n",
       " 'how do you think the show is going to end',\n",
       " 'best twitter reactions to game of thrones season premiere',\n",
       " 'rob mcelhenney makes his first and last appearance on game of thrones',\n",
       " 'spoiler alerts are you watching',\n",
       " 'youd have had to look really closely to catch these',\n",
       " 'this was pretty funny actually',\n",
       " 'sophie turner says she dealt with depression during game of 0 turner says criticism over her role on game of thrones was one of the reasons that led to her depression',\n",
       " 'six minutes cut from game of thrones season premiere in 0 fans of game of thrones missed out on six minutes of violence prostitutes and 0 language which was cut from the premiere of the shows final season on sunday bit',\n",
       " 'you see this is 0 between it and 0 is where they do some game of thrones filming behind a big wall security is wild tight this is 0 filling station theres a red diesel pump there if you know what i mean',\n",
       " 'game of thrones and beyonce bout to make me take another hiatus',\n",
       " 'you know you talk about game of thrones too much when your phone starts 0 got to got',\n",
       " 'gameofthrones got 0 of thrones season episode spoilers without context',\n",
       " 'enjoy great selfies of the gameofthrones cast hanging out partying',\n",
       " 'inside the love lives of the gameofthrones cast via',\n",
       " 'who are the highest paid game of thrones actors got',\n",
       " 'gameofthrones returned for its final season last night 0 largely positive reviews even so kit harington isnt interested in what critics have to say if people feel let down by it i dont give a fck',\n",
       " 'the worst part about jon and daenerys relationship isnt the fact that its incest but rather the black hole of chemistry that exists between the actors are they an endgame romance',\n",
       " 'gameofthrones vfx supervisor gave indiewire an inside look at the making of that breathtaking maiden dragon flight in the final season premiere',\n",
       " 'kit harington has a message for the gameofthrones 0 of the world they can go fck themselves',\n",
       " 'gameofthrones jon snows epic dragon joyride wont be his last',\n",
       " 'lena headey originally disagreed with cersei and eurons major gameofthrones premiere moment',\n",
       " 'gameofthrones season premiere photos winterfell revealed big secrets',\n",
       " 'more than million viewers tuned in to the gameofthrones season premiere last night making it the largest night of streaming activity ever for hbo see the numbers',\n",
       " 'gameofthrones returned for its final season premiere sunday night with a shocking twist jokes read our review of the episode',\n",
       " 'hbo 0 recordsetting ratings on strength of gameofthrones season premiere',\n",
       " 'gameofthrones stuntman talks being set on fire for horrific season premiere scene',\n",
       " 'lena headey said she was initially hesitant about cerseis decision to give in to euron greyjoys demand i kept saying she wouldnt she wouldnt that she would keep fighting',\n",
       " 'to pull off that terrifying scene from last sundays gameofthrones episode a stuntman was actually set on fire even when i had these small eye holes all i could see was these little flicks of light',\n",
       " 'the most horrific moment of the got season premiere was easily when a young child turned white walker was lit on fire heres how the stuntman pulled it off',\n",
       " 'game of thrones title designers break down season s new dramatic opening credit sequence',\n",
       " 'gameofthrones stuntman talks being set on fire for horrific season premiere scene',\n",
       " 'kit harington says gameofthrones critics can go fck themselves',\n",
       " 'gameofthrones the shows biggest weakness is its 0 love story',\n",
       " 'gameofthrones kicked off its final season with one of its most brutal images a child being burned alive see what the shows stuntman said about the scene',\n",
       " '0 game of thrones hotline for confused fans so if you like i do have a hard',\n",
       " 'i get told i look like khaleesi from game of thrones everywhere i go',\n",
       " 'me to every game of thrones post i see',\n",
       " 'game of thrones premiere comparison season vs season callbacks breakdown',\n",
       " 'ign watch party game of thrones season episode recap',\n",
       " 'game of thrones would you watch more seasons ign now',\n",
       " 'went to the dentist this morning and when she was checking my teeth she was humming the game of thrones theme music i loved it gamesofthrones',\n",
       " 'as a game of thrones tourist in northern ireland you can see how the magic of a fantasy realm has eclipsed the history of the actual place',\n",
       " 'a real incident that took place between competing game of thrones tour guides in ireland',\n",
       " 'as a game of thrones tourist in northern ireland you can see how the magic of a fantasy realm has eclipsed the history of the actual place',\n",
       " 'as a game of thrones tourist in northern ireland you can see how the magic of a fantasy realm has eclipsed the history of the actual place',\n",
       " 'as a game of thrones tourist in northern ireland you can see how the magic of a fantasy realm has eclipsed the history of the actual place',\n",
       " 'as a game of thrones tourist in northern ireland you can see how the magic of a fantasy realm has eclipsed the history of the actual place',\n",
       " 'as a game of thrones tourist in northern ireland you can see how the magic of a fantasy realm has eclipsed the history of the actual place',\n",
       " 'as a game of thrones tourist in northern ireland you can see how the magic of a fantasy realm has eclipsed the history of the actual place',\n",
       " 'a real incident that took place between competing game of thrones tour guides in ireland',\n",
       " 'a real incident that took place between competing game of thrones tour guides in ireland',\n",
       " 'as a game of thrones tourist in northern ireland you can see how the magic of a fantasy realm has eclipsed the history of the actual place',\n",
       " 'game of thrones cast answer phones on jimmy kimmel variety',\n",
       " 'david 0 on the premier leagues game of thrones',\n",
       " 'watch game of thrones season episode preview',\n",
       " 'celebs react to epic game of thrones final season premiere',\n",
       " 'will jon snow betray daenerys on game of thrones',\n",
       " 'game of thrones launch lands sky record uk audience numbers variety',\n",
       " 'seriously where is ghost on game of thrones',\n",
       " 'so is cersei actually pregnant on game of thrones',\n",
       " 'thoughts a 0 of thrones watcher had about the season premiere',\n",
       " 'game of thrones season episode scenes ranked from least to most impactful',\n",
       " 'kit harington says game of thrones critics can go fk themselves',\n",
       " 'game of thrones characters then and now',\n",
       " 'game of thrones facts from the entire series thatll blow your mind',\n",
       " 'lets talk about jon snow and drogons staring contest on game of thrones last night',\n",
       " 'every game of thrones season episode scene ranked from pretty cool to my jaw actually dropped',\n",
       " 'game of thrones memes from season episode that will make you laugh for days',\n",
       " 'tony 0 was back talking about the leadership as the pm watched game of thrones',\n",
       " 'game of thrones highkey interesting',\n",
       " 'me i watched game of 0 oh yeah its good but its rated r you cant watch itme im dad oh yeah dads really see their children as forever babies huh',\n",
       " 'okay ive made it through the first two seasons of game of thrones and so far my biggest takeaway is that stannis baratheon is pretty much 0 0 am i right',\n",
       " 'behindthescenes facts and small details you didnt know about game of thrones',\n",
       " 'what this cersei scene in the game of thrones premiere might have meant',\n",
       " 'game of thrones characters then and now',\n",
       " 'these game of thrones memes about season episode will make you laugh an embarrassing amount',\n",
       " 'mac from its always sunny had a literal onesecond cameo in the game of thrones season premiere',\n",
       " 'game of thrones season episode scenes ranked from least to most impactful',\n",
       " 'scott morrison watched game of thrones while tony 0 aired yet more drama',\n",
       " 'game of thrones season episode scenes ranked from least to most impactful',\n",
       " 'lets talk about cerseis pregnancy on game of thrones',\n",
       " 'things i screamed at my tv during the game of thrones season premiere',\n",
       " 'game of thrones memes from season episode thatll make you laugh harder than you should']"
      ]
     },
     "execution_count": 19,
     "metadata": {},
     "output_type": "execute_result"
    }
   ],
   "source": [
    "ppt[:100]"
   ]
  },
  {
   "cell_type": "code",
   "execution_count": 21,
   "id": "e3c871d1",
   "metadata": {
    "scrolled": false
   },
   "outputs": [],
   "source": [
    "intTweets, ISdic, SIdic = words2int(ppt)"
   ]
  },
  {
   "cell_type": "code",
   "execution_count": 23,
   "id": "3f77d89a",
   "metadata": {
    "scrolled": true
   },
   "outputs": [
    {
     "data": {
      "text/plain": [
       "[9345,\n",
       " 8188,\n",
       " 9106,\n",
       " 5095,\n",
       " 3970,\n",
       " 11538,\n",
       " 11037,\n",
       " 19847,\n",
       " 11538,\n",
       " 17910,\n",
       " 16511,\n",
       " 17910,\n",
       " 1173,\n",
       " 5095,\n",
       " 6687,\n",
       " 2,\n",
       " 10019,\n",
       " 5095,\n",
       " 11538,\n",
       " 5831,\n",
       " 16511,\n",
       " 7449,\n",
       " 13310,\n",
       " 11538,\n",
       " 11037,\n",
       " 5095,\n",
       " 14345,\n",
       " 19826,\n",
       " 1173,\n",
       " 13310,\n",
       " 5095,\n",
       " 2,\n",
       " 9106,\n",
       " 3970,\n",
       " 11538,\n",
       " 19084,\n",
       " 11037,\n",
       " 11037,\n",
       " 8188,\n",
       " 6687,\n",
       " 7449,\n",
       " 16511,\n",
       " 9106,\n",
       " 8188,\n",
       " 11037,\n",
       " 6687,\n",
       " 14345,\n",
       " 19847,\n",
       " 10019,\n",
       " 1173,\n",
       " 11538,\n",
       " 9345,\n",
       " 5095,\n",
       " 19826,\n",
       " 12008,\n",
       " 9345,\n",
       " 2,\n",
       " 8188,\n",
       " 11037,\n",
       " 5095,\n",
       " 3970]"
      ]
     },
     "execution_count": 23,
     "metadata": {},
     "output_type": "execute_result"
    }
   ],
   "source": [
    "intTweets[3]"
   ]
  },
  {
   "cell_type": "code",
   "execution_count": null,
   "id": "55217202",
   "metadata": {},
   "outputs": [],
   "source": [
    "def shouldKeepWord(word, sample, wordCount, corpusSize):\n",
    "    n = wordCount[word]\n",
    "    z = n/corpusSize\n",
    "    p = (np.sqrt(z/sample) + 1) * sample/z\n",
    "    \n",
    "    r = np.random.uniform(0,1,1)\n",
    "    if p > r:\n",
    "        return True\n",
    "    return False"
   ]
  },
  {
   "cell_type": "code",
   "execution_count": 38,
   "id": "4073186a",
   "metadata": {},
   "outputs": [],
   "source": [
    "def getTrainingData(processedText, vocabSize=vocabSize, windowSize=5, wordCount, corpusSize):\n",
    "    X = []\n",
    "    y = []\n",
    "    # the position in the oneHotToken of a word will be it's integer representation\n",
    "    # for example: word \"table\" -> SIdic['table'] = 15 -> oneHotTokens[15] represent the oneHotToken of table\n",
    "    oneHotTokens = np.zeros((vocabSize, vocabSize))\n",
    "    np.fill_diagonal(oneHotTokens, 1)\n",
    "    for sentence in processedText:\n",
    "        s = []\n",
    "        \n",
    "        # implementing subsampling of frequent words\n",
    "        for word in sentence:\n",
    "            if shouldKeepWord(word, 0.001, wordCount, corpusSize):\n",
    "                s.append(word)\n",
    "        \n",
    "        for i in range(len(s)):\n",
    "            centerWord = s[i]\n",
    "            j = i\n",
    "            while j < i + windowSize and j < len(sentence)-1:\n",
    "                j += 1\n",
    "                X.append(oneHotTokens[centerWord])\n",
    "                y.append(oneHotTokens[sentence[j]])\n",
    "            j = i\n",
    "            while j > i - windowSize and j >= 1:\n",
    "                j -= 1\n",
    "                X.append(oneHotTokens[centerWord])\n",
    "                y.append(oneHotTokens[sentence[j]])\n",
    "        if len(X) > 10000000:\n",
    "            break\n",
    "    return X, y"
   ]
  },
  {
   "cell_type": "markdown",
   "id": "584565b7",
   "metadata": {},
   "source": [
    "Formula for table: $P(w_i) = \\frac{f(w_i)^{3/4}}{\\sum \\limits _{j=0}^{n}(f(w_j)^{3/4})}$"
   ]
  },
  {
   "cell_type": "code",
   "execution_count": null,
   "id": "a9bd1ee6",
   "metadata": {},
   "outputs": [],
   "source": [
    "\n",
    "\n",
    "def createTableForNegSampling(corpus, wordCount):\n",
    "    # creating a 100M size table \n",
    "    table = np.array(100000000)\n",
    "    \n",
    "    probabilities = dict()\n",
    "    totalWords = 0\n",
    "    for word, count in wordCount:\n",
    "        totalWords += count\n",
    "        \n",
    "    # calculating the probabilities for each word\n",
    "    for word, count in wordCount:\n",
    "        probabilites[word] = pow(count, 3/4)/ pow(totalWords, 3/4)\n",
    "    \n",
    "    \n",
    "    # creating a dictionary that says how many indices in the table a certain word has\n",
    "    nWordsOnTable = \n",
    "    \n",
    "    return table"
   ]
  },
  {
   "cell_type": "code",
   "execution_count": 39,
   "id": "7ae307a9",
   "metadata": {},
   "outputs": [],
   "source": [
    "X, y = getTrainingData(intTweets)"
   ]
  },
  {
   "cell_type": "code",
   "execution_count": 49,
   "id": "de731e5e",
   "metadata": {},
   "outputs": [
    {
     "data": {
      "text/plain": [
       "array([0., 0., 0., ..., 0., 0., 0.])"
      ]
     },
     "execution_count": 49,
     "metadata": {},
     "output_type": "execute_result"
    }
   ],
   "source": [
    "from keras.models import Sequential\n",
    "from keras.layers import Dense\n",
    "\n",
    "model = Sequential()\n",
    "model.add(Dense(output_dim=300, input_dim=vocabSize, activation= 'relu'))\n",
    "model.add(Dense(output_dim=vocabSize, activation= 'softmax'))\n",
    "model.compile(loss='categorical_crossentropy', optimizer='adam', metrics=['accuracy'])\n",
    "\n",
    "model.fit(X, y, epochs=100, batchSize=(len(X)//100))"
   ]
  }
 ],
 "metadata": {
  "kernelspec": {
   "display_name": "Python 3",
   "language": "python",
   "name": "python3"
  },
  "language_info": {
   "codemirror_mode": {
    "name": "ipython",
    "version": 3
   },
   "file_extension": ".py",
   "mimetype": "text/x-python",
   "name": "python",
   "nbconvert_exporter": "python",
   "pygments_lexer": "ipython3",
   "version": "3.8.8"
  }
 },
 "nbformat": 4,
 "nbformat_minor": 5
}
