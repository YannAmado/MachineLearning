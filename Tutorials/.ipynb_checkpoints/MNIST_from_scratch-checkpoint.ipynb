{
 "cells": [
  {
   "cell_type": "code",
   "execution_count": 212,
   "id": "14a426d0",
   "metadata": {},
   "outputs": [],
   "source": [
    "import numpy as np\n",
    "import random as rd\n",
    "from keras.datasets import mnist\n",
    "\n"
   ]
  },
  {
   "cell_type": "code",
   "execution_count": 213,
   "id": "67dbe35e",
   "metadata": {},
   "outputs": [],
   "source": [
    "class Network:\n",
    "    def __init__(self, layers: list):        \n",
    "        np.random.seed(42)        \n",
    "        b = []\n",
    "        w = []\n",
    "        a = []\n",
    "        z = []\n",
    "        for l in range(0, len(layers)):\n",
    "            # skipping one layer for the weights and biases\n",
    "            if (l+1) < len(layers):\n",
    "                b.append(np.random.normal(loc=0, scale=1,size=layers[l+1]))\n",
    "                w.append(np.random.normal(loc=0,scale=3,size=[layers[l],layers[l+1]]))\n",
    "            a.append(np.zeros(layers[l]))\n",
    "            z.append(np.zeros(layers[l]))\n",
    "    \n",
    "        # b[i][j] -> i is which layer, j which neuron\n",
    "        # w[i][j][k] -> i is which layer, j which neuron of the first layer, k which neuron of the second layer\n",
    "        self.b = b\n",
    "        self.w = w\n",
    "        self.a = a\n",
    "        self.z = z\n",
    "        self.nLayers = len(layers)\n",
    "        self.layers = layers"
   ]
  },
  {
   "cell_type": "code",
   "execution_count": 214,
   "id": "378ffc6d",
   "metadata": {},
   "outputs": [],
   "source": [
    "def sigmoid(n: float):\n",
    "    return 1.0/(1.0+np.exp(-n))\n",
    "\n",
    "def sigmoid_derivative(n: float):\n",
    "    \"\"\"Derivative of the sigmoid function.\"\"\"\n",
    "    return sigmoid(n)*(1-sigmoid(n))\n"
   ]
  },
  {
   "cell_type": "code",
   "execution_count": 215,
   "id": "0ea48a23",
   "metadata": {},
   "outputs": [],
   "source": [
    "def feedForward(net: Network) -> Network:\n",
    "    for l in range(0, net.nLayers-1):\n",
    "        for receivingNeuron in range(net.layers[l+1]):\n",
    "            # resetting z as to not take any info from the activation of the previous number\n",
    "            net.z[l+1][receivingNeuron] = 0\n",
    "            for givingNeuron in range(net.layers[l]):\n",
    "                net.z[l+1][receivingNeuron] += net.a[l][givingNeuron] * net.w[l][givingNeuron][receivingNeuron]\n",
    "            net.z[l+1][receivingNeuron] += net.b[l][receivingNeuron]\n",
    "            net.a[l+1][receivingNeuron] = sigmoid(net.z[l+1][receivingNeuron])\n",
    "\n",
    "            \n",
    "    return net\n",
    "    \n",
    "    "
   ]
  },
  {
   "cell_type": "code",
   "execution_count": 216,
   "id": "10120406",
   "metadata": {},
   "outputs": [],
   "source": [
    "def setInput(net: Network, MNISTnumber):\n",
    "    numberArr = np.asarray(MNISTnumber).flatten()\n",
    "    for i in range(net.layers[0]):\n",
    "        net.z[0][i] = numberArr[i]\n",
    "        net.a[0][i] = numberArr[i]\n",
    "    net = feedForward(net)\n",
    "    \n",
    "    return net"
   ]
  },
  {
   "cell_type": "markdown",
   "id": "6491dbfe",
   "metadata": {},
   "source": [
    "$$\\delta^L = (a^L - y)\\odot \\sigma'(z^L)$$\n",
    "$$\\delta^l = ((w^{l+1})^T\\delta^{l+1})\\odot \\sigma'(z^l)$$\n",
    "$$\\frac{\\partial C}{\\partial b^l_j} = \\delta^l_j$$\n",
    "$$\\frac{\\partial C}{\\partial w^l_{jk}} = a^{l-1}_k\\delta^l_j$$"
   ]
  },
  {
   "cell_type": "code",
   "execution_count": 217,
   "id": "2b397ddc",
   "metadata": {},
   "outputs": [],
   "source": [
    "def backProp(net: Network, delta, batchSize, learningRate) -> Network:\n",
    "    layers = net.layers\n",
    "    for l in range(net.nLayers-1, 0, -1):\n",
    "        nablaB = delta\n",
    "                \n",
    "        # not too sure about nablaW\n",
    "        nablaW = np.zeros([layers[l-1], layers[l]])\n",
    "        for j in range(layers[l]):\n",
    "            for k in range(layers[l-1]):\n",
    "                nablaW[k][j] += net.a[l-1][k]*delta[j]\n",
    "                \n",
    "\n",
    "        net.b[l-1] = net.b[l-1] - learningRate*(nablaB/batchSize)\n",
    "        net.w[l-1] = net.w[l-1] - learningRate*(nablaW/batchSize)\n",
    "        \n",
    "        # finding the error one layer behind\n",
    "        # in the book it needs a transpose because its weight[layer][receivingNeuron][givingNeuron]\n",
    "        # but my implementation uses weight[layer][givingNeuron][receivingNeuron] so it's not necessary\n",
    "        if l >= 0:\n",
    "            delta = (np.dot(net.w[l-1], delta))*sigmoid_derivative(net.z[l-1])\n",
    "        \n",
    "    return net\n"
   ]
  },
  {
   "cell_type": "code",
   "execution_count": 218,
   "id": "8536b0c8",
   "metadata": {
    "pycharm": {
     "name": "#%%\n"
    }
   },
   "outputs": [],
   "source": [
    "def SGD(net: Network, X: list, y: list, batchSize: int, nEpochs: int, learningRate) -> Network:\n",
    "    for epoch in range(nEpochs):\n",
    "        #print(epoch)\n",
    "        delta = np.zeros(10) # 10 because its the possible number of outputs\n",
    "        batch = rd.sample(range(len(X)), batchSize)\n",
    "        for i in batch:\n",
    "            net = setInput(net, X[i])\n",
    "            # not too sure about the meaning of the y in the equation (a^L_j - y_j)\n",
    "            # not sure about how the delta should be calculated\n",
    "            for j in range(net.layers[-1]):\n",
    "                if y[i] == j:\n",
    "                    delta[j] += (net.a[-1][j] - 1)*sigmoid_derivative(net.z[-1][j])\n",
    "                else:\n",
    "                    delta[j] += (net.a[-1][j] - 0)*sigmoid_derivative(net.z[-1][j])\n",
    "        \n",
    "        # taking the average of the results\n",
    "        delta = delta/batchSize\n",
    "        net = backProp(net, delta, batchSize, learningRate)\n",
    "    return net\n",
    "        "
   ]
  },
  {
   "cell_type": "code",
   "execution_count": 219,
   "id": "841b0adc",
   "metadata": {},
   "outputs": [
    {
     "name": "stderr",
     "output_type": "stream",
     "text": [
      "<ipython-input-214-7f10a7c28f15>:2: RuntimeWarning: overflow encountered in exp\n",
      "  return 1.0/(1.0+np.exp(-n))\n"
     ]
    },
    {
     "data": {
      "text/plain": [
       "array([3.75515966e-06, 4.28797507e-05, 3.43292349e-03, 5.64869232e-02,\n",
       "       1.97112286e-10, 9.99959439e-01, 2.10383129e-07, 9.79551927e-01,\n",
       "       1.48347967e-08, 8.12413917e-02])"
      ]
     },
     "execution_count": 219,
     "metadata": {},
     "output_type": "execute_result"
    }
   ],
   "source": [
    "net = Network([784,30,10])\n",
    "(train_X, train_y), (test_X, test_y) = mnist.load_data()\n",
    "\n",
    "net = setInput(net, train_X[0])\n",
    "net.a[-1]"
   ]
  },
  {
   "cell_type": "code",
   "execution_count": 220,
   "id": "38ebf075",
   "metadata": {
    "scrolled": true
   },
   "outputs": [
    {
     "name": "stderr",
     "output_type": "stream",
     "text": [
      "<ipython-input-214-7f10a7c28f15>:2: RuntimeWarning: overflow encountered in exp\n",
      "  return 1.0/(1.0+np.exp(-n))\n"
     ]
    }
   ],
   "source": [
    "net = Network([784,30,10])\n",
    "(train_X, train_y), (test_X, test_y) = mnist.load_data()\n",
    "\n",
    "# net = SGD(net, train_X, train_y, batchSize=100, nEpochs=20, learningRate=0.1)\n"
   ]
  },
  {
   "cell_type": "code",
   "execution_count": 229,
   "id": "d026ec5e",
   "metadata": {},
   "outputs": [],
   "source": [
    "def testNetwork(net: Network, test_X, test_y, batchSize: int):\n",
    "    correctOutput = 0\n",
    "    X = test_X[:batchSize]\n",
    "    y = test_y[:batchSize]\n",
    "    outputs = np.zeros(10)\n",
    "    for i in range(batchSize):\n",
    "        net = setInput(net, X[i])\n",
    "        networkOutput = np.argmax(net.a[-1])\n",
    "        outputs[networkOutput] += 1\n",
    "        #print(f\"number: {y[i]}, networkOutput: {networkOutput}, activations: {net.a[-1]}\")\n",
    "        if y[i] == networkOutput:\n",
    "            correctOutput += 1\n",
    "    acc = correctOutput/batchSize\n",
    "    return acc, outputs\n"
   ]
  },
  {
   "cell_type": "code",
   "execution_count": 232,
   "id": "3452f534",
   "metadata": {},
   "outputs": [],
   "source": [
    "def gridSearch(net: Network, train_X, train_y, test_X, test_y, batchSize: int, learningRates: list, epochs: list):\n",
    "    for eta in learningRates:\n",
    "        for epoch in epochs:\n",
    "            # resetting the network\n",
    "            net = Network([784,30,10])\n",
    "            net = SGD(net, train_X, train_y, batchSize=batchSize, nEpochs=epoch, learningRate=eta)\n",
    "            acc, outputs = testNetwork(net, test_X, test_y, batchSize=batchSize)\n",
    "            print(f'learningRate: {eta} epochs: {epoch} acc: {acc}, outputs: {outputs}')"
   ]
  },
  {
   "cell_type": "code",
   "execution_count": null,
   "id": "558b9eab",
   "metadata": {
    "scrolled": true
   },
   "outputs": [
    {
     "name": "stderr",
     "output_type": "stream",
     "text": [
      "<ipython-input-214-7f10a7c28f15>:2: RuntimeWarning: overflow encountered in exp\n",
      "  return 1.0/(1.0+np.exp(-n))\n"
     ]
    },
    {
     "name": "stdout",
     "output_type": "stream",
     "text": [
      "learningRate: 0.1 epochs: 10 acc: 0.07, outputs: [ 0.  6.  0.  5.  1. 29.  1. 50.  0.  8.]\n",
      "learningRate: 0.1 epochs: 20 acc: 0.07, outputs: [ 0.  6.  0.  5.  1. 29.  1. 50.  0.  8.]\n",
      "learningRate: 0.1 epochs: 50 acc: 0.07, outputs: [ 0.  6.  0.  5.  1. 29.  1. 50.  0.  8.]\n",
      "learningRate: 1 epochs: 10 acc: 0.07, outputs: [ 0.  6.  0.  5.  1. 29.  1. 50.  0.  8.]\n"
     ]
    }
   ],
   "source": [
    "gridSearch(net, train_X, train_y, test_X, test_y, batchSize=100, learningRates=[0.1,1,10,100,1000,10000], epochs=[10,20,50])"
   ]
  },
  {
   "cell_type": "code",
   "execution_count": null,
   "id": "0e834594",
   "metadata": {},
   "outputs": [],
   "source": [
    "sizes = [784, 30, 10]\n",
    "weights = [np.random.randn(y, x) for x, y in zip(sizes[:-1], sizes[1:])]\n",
    "weights[0][29][78]"
   ]
  }
 ],
 "metadata": {
  "kernelspec": {
   "display_name": "Python 3",
   "language": "python",
   "name": "python3"
  },
  "language_info": {
   "codemirror_mode": {
    "name": "ipython",
    "version": 3
   },
   "file_extension": ".py",
   "mimetype": "text/x-python",
   "name": "python",
   "nbconvert_exporter": "python",
   "pygments_lexer": "ipython3",
   "version": "3.8.8"
  }
 },
 "nbformat": 4,
 "nbformat_minor": 5
}
