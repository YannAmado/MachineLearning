{
 "cells": [
  {
   "cell_type": "code",
   "execution_count": 304,
   "id": "14a426d0",
   "metadata": {},
   "outputs": [],
   "source": [
    "import numpy as np\n",
    "import random as rd\n",
    "from keras.datasets import mnist"
   ]
  },
  {
   "cell_type": "code",
   "execution_count": 305,
   "id": "67dbe35e",
   "metadata": {},
   "outputs": [],
   "source": [
    "class Network:\n",
    "    def __init__(self, layers: list):        \n",
    "        b = []\n",
    "        w = []\n",
    "        a = []\n",
    "        z = []\n",
    "        for l in range(0, len(layers)):\n",
    "            # skipping one layer for the weights and biases\n",
    "            if (l+1) < len(layers):\n",
    "                b.append(np.random.normal(loc=0, scale=1,size=layers[l+1]))\n",
    "                w.append(np.random.normal(loc=0,scale=3,size=[layers[l],layers[l+1]]))\n",
    "            a.append(np.zeros(layers[l]))\n",
    "            z.append(np.zeros(layers[l]))\n",
    "    \n",
    "        # b[i][j] -> i is which layer, j which neuron\n",
    "        # w[i][j][k] -> i is which layer, j which neuron of the first layer, k which neuron of the second layer\n",
    "        self.b = b\n",
    "        self.w = w\n",
    "        self.a = a\n",
    "        self.z = z\n",
    "        self.nLayers = len(layers)\n",
    "        self.layers = layers"
   ]
  },
  {
   "cell_type": "code",
   "execution_count": 306,
   "id": "378ffc6d",
   "metadata": {},
   "outputs": [],
   "source": [
    "def ReLU(n: int):\n",
    "    return max(0, n)\n",
    "\n",
    "def ReLU_derivative(n):\n",
    "    n = np.where(n <= 0, 0, 1)\n",
    "    return n\n"
   ]
  },
  {
   "cell_type": "code",
   "execution_count": 307,
   "id": "0ea48a23",
   "metadata": {},
   "outputs": [],
   "source": [
    "def feedForward(net: Network) -> Network:\n",
    "    for l in range(0, net.nLayers-1):\n",
    "        for receivingNeuron in range(net.layers[l+1]):\n",
    "            # resetting the z as to not take any info from the activation of the previous number\n",
    "            net.z[l+1][receivingNeuron] = 0\n",
    "            for givingNeuron in range(net.layers[l]):\n",
    "                net.z[l+1][receivingNeuron] += net.a[l][givingNeuron] * net.w[l][givingNeuron][receivingNeuron]\n",
    "            net.z[l+1][receivingNeuron] += net.b[l][receivingNeuron]\n",
    "            net.a[l+1][receivingNeuron] = ReLU(net.z[l+1][receivingNeuron])\n",
    "\n",
    "            \n",
    "    return net\n",
    "    \n",
    "    "
   ]
  },
  {
   "cell_type": "code",
   "execution_count": 308,
   "id": "2076bdf9",
   "metadata": {},
   "outputs": [],
   "source": [
    "def setInput(net: Network, MNISTnumber):\n",
    "    for i in MNISTnumber:\n",
    "        net.a[0][i] = i\n",
    "    net = feedForward(net)\n",
    "    \n",
    "    return net"
   ]
  },
  {
   "cell_type": "markdown",
   "id": "36c657d4",
   "metadata": {},
   "source": [
    "$$\\delta^L = (a^L - y)\\odot \\sigma'(z^L)$$\n",
    "$$\\delta^l = ((w^{l+1})^T\\delta^{l+1})\\odot \\sigma'(z^l)$$\n",
    "$$\\frac{\\partial C}{\\partial b^l_j} = \\delta^l_j$$\n",
    "$$\\frac{\\partial C}{\\partial w^l_{jk}} = a^{l-1}_k\\delta^l_j$$"
   ]
  },
  {
   "cell_type": "code",
   "execution_count": 309,
   "id": "2b397ddc",
   "metadata": {},
   "outputs": [],
   "source": [
    "def backProp(net: Network, delta, batchSize, learningRate) -> Network:\n",
    "    layers = net.layers\n",
    "    for l in range(net.nLayers-1, 0, -1):\n",
    "        nablaB = delta\n",
    "                \n",
    "        # not too sure about nablaW\n",
    "        nablaW = np.zeros([layers[l-1], layers[l]])\n",
    "        for j in range(layers[l]):\n",
    "            for k in range(layers[l-1]):\n",
    "                nablaW[k][j] += net.a[l-1][k]*delta[j]\n",
    "                \n",
    "\n",
    "        net.b[l-1] = net.b[l-1] - learningRate*(nablaB/batchSize)\n",
    "        net.w[l-1] = net.w[l-1] - learningRate*(nablaW/batchSize)\n",
    "        \n",
    "        # finding the error one layer behind\n",
    "        # in the book it needs a transpose because its weight[layer][receivingNeuron][givingNeuron]\n",
    "        # but my implementation uses weight[layer][givingNeuron][receivingNeuron] so it's not necessary\n",
    "        if l >= 0:\n",
    "            delta = (np.dot(net.w[l-1], delta))*ReLU_derivative(net.z[l-1])\n",
    "        \n",
    "    return net\n"
   ]
  },
  {
   "cell_type": "code",
   "execution_count": null,
   "outputs": [],
   "source": [
    "def SGD(net: Network, X: list, y: list, batchSize: int, nEpochs: int, learningRate) -> Network:\n",
    "    for epoch in range(nEpochs):\n",
    "        print(epoch)\n",
    "        delta = 0\n",
    "        batch = rd.sample(range(len(X)), batchSize)\n",
    "        for i in batch:\n",
    "            number = np.asarray(X[i]).flatten()\n",
    "            net = setInput(net, number)\n",
    "            for j in range(net.layers[-1]):\n",
    "                if y[i] == (j+1):\n",
    "                    delta += (net.a[-1][j] - 1)*ReLU_derivative(net.z[-1])\n",
    "                else:\n",
    "                    delta += (net.a[-1][j] - 0)*ReLU_derivative(net.z[-1])\n",
    "        \n",
    "        # taking the average of the results\n",
    "        delta = delta/batchSize\n",
    "        net = backProp(net, delta, batchSize, learningRate)\n",
    "    return net\n",
    "        "
   ],
   "metadata": {
    "collapsed": false,
    "pycharm": {
     "name": "#%%\n"
    }
   }
  },
  {
   "cell_type": "code",
   "execution_count": null,
   "outputs": [],
   "source": [
    "net = Network([784,30,10])\n",
    "(train_X, train_y), (test_X, test_y) = mnist.load_data()\n",
    "\n",
    "net = setInput(net, train_X[0])\n",
    "net.a[-1]"
   ],
   "metadata": {
    "collapsed": false,
    "pycharm": {
     "name": "#%%\n"
    }
   }
  },
  {
   "cell_type": "code",
   "execution_count": null,
   "outputs": [],
   "source": [
    "net = Network([784,30,10])\n",
    "(train_X, train_y), (test_X, test_y) = mnist.load_data()\n",
    "\n",
    "net = SGD(net, train_X, train_y, batchSize=100, nEpochs=10, learningRate=0.05)"
   ],
   "metadata": {
    "collapsed": false,
    "pycharm": {
     "name": "#%%\n"
    }
   }
  },
  {
   "cell_type": "code",
   "execution_count": null,
   "outputs": [],
   "source": [
    "def testNetwork(net: Network, test_X, test_y, batchSize: int):\n",
    "    correctOutput = 0\n",
    "    X = test_X[:batchSize]\n",
    "    y = test_y[:batchSize]\n",
    "    for i in range(batchSize):\n",
    "        net = setInput(net, X[i])\n",
    "        networkOutput = np.argmax(net.a[-1])\n",
    "        print(f\"number: {y[i]}, networkOutput: {networkOutput}, activations: {net.a[-1]}\")\n",
    "        if y[i] == networkOutput:\n",
    "            correctOutput += 1\n",
    "    acc = correctOutput/batchSize\n",
    "    print(acc)\n"
   ],
   "metadata": {
    "collapsed": false,
    "pycharm": {
     "name": "#%%\n"
    }
   }
  },
  {
   "cell_type": "code",
   "execution_count": 315,
   "id": "51ee8cc6",
   "metadata": {
    "scrolled": true
   },
   "outputs": [
    {
     "name": "stdout",
     "output_type": "stream",
     "text": [
      "number: 7, networkOutput: 0, weights: [0. 0. 0. 0. 0. 0. 0. 0. 0. 0.]\n",
      "number: 2, networkOutput: 0, weights: [0. 0. 0. 0. 0. 0. 0. 0. 0. 0.]\n",
      "number: 1, networkOutput: 0, weights: [0. 0. 0. 0. 0. 0. 0. 0. 0. 0.]\n",
      "number: 0, networkOutput: 0, weights: [0. 0. 0. 0. 0. 0. 0. 0. 0. 0.]\n",
      "number: 4, networkOutput: 0, weights: [0. 0. 0. 0. 0. 0. 0. 0. 0. 0.]\n",
      "number: 1, networkOutput: 0, weights: [0. 0. 0. 0. 0. 0. 0. 0. 0. 0.]\n",
      "number: 4, networkOutput: 0, weights: [0. 0. 0. 0. 0. 0. 0. 0. 0. 0.]\n",
      "number: 9, networkOutput: 0, weights: [0. 0. 0. 0. 0. 0. 0. 0. 0. 0.]\n",
      "number: 5, networkOutput: 0, weights: [0. 0. 0. 0. 0. 0. 0. 0. 0. 0.]\n",
      "number: 9, networkOutput: 0, weights: [0. 0. 0. 0. 0. 0. 0. 0. 0. 0.]\n",
      "0.1\n"
     ]
    }
   ],
   "source": [
    "testNetwork(net, test_X, test_y, 10)"
   ]
  },
  {
   "cell_type": "code",
   "execution_count": null,
   "id": "a8bc5b61",
   "metadata": {},
   "outputs": [],
   "source": [
    "sizes = [784, 30, 10]\n",
    "weights = [np.random.randn(y, x) for x, y in zip(sizes[:-1], sizes[1:])]\n",
    "weights[0][29][78]"
   ]
  }
 ],
 "metadata": {
  "kernelspec": {
   "display_name": "Python 3",
   "language": "python",
   "name": "python3"
  },
  "language_info": {
   "codemirror_mode": {
    "name": "ipython",
    "version": 3
   },
   "file_extension": ".py",
   "mimetype": "text/x-python",
   "name": "python",
   "nbconvert_exporter": "python",
   "pygments_lexer": "ipython3",
   "version": "3.8.8"
  }
 },
 "nbformat": 4,
 "nbformat_minor": 5
}